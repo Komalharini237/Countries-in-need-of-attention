{
 "cells": [
  {
   "cell_type": "markdown",
   "metadata": {},
   "source": [
    "# PCA Algorithm & Clustering\n",
    "Steps:\n",
    "1. Read and understand the data\n",
    "2. Outlier Testing\n",
    "3. Visualize the correlation and Data Preparation\n",
    "4. Use PCA and screeplot for choosing best number of PCs\n",
    "5. Basis transformation - getting the data onto our PCs\n",
    "6. Creating correlation matrix for the principal components - we expect little to no correlation\n",
    "7. Clustering \n",
    "    - K-Means\n",
    "    - Hierarchical\n",
    "        - Single\n",
    "        - Complete\n",
    "8. Inferences"
   ]
  },
  {
   "cell_type": "markdown",
   "metadata": {},
   "source": [
    "## 1. Read and Understand the data"
   ]
  },
  {
   "cell_type": "code",
   "execution_count": 1,
   "metadata": {},
   "outputs": [],
   "source": [
    "# Importing required packages\n",
    "\n",
    "import numpy as np, pandas as pd\n",
    "import matplotlib.pyplot as plt\n",
    "import seaborn as sns\n",
    "\n",
    "# For Visualisation\n",
    "import matplotlib.pyplot as plt\n",
    "import seaborn as sns\n",
    "%matplotlib inline\n",
    "\n",
    "# To Scale our data\n",
    "from sklearn.preprocessing import StandardScaler\n",
    "\n",
    "# Importing the PCA module\n",
    "from sklearn.decomposition import PCA\n",
    "from sklearn.decomposition import IncrementalPCA\n",
    "\n",
    "# To perform KMeans clustering \n",
    "from sklearn.cluster import KMeans\n",
    "from sklearn.metrics import silhouette_score\n",
    "\n",
    "# To perform Hierarchical clustering\n",
    "from scipy.cluster.hierarchy import linkage\n",
    "from scipy.cluster.hierarchy import dendrogram\n",
    "from scipy.cluster.hierarchy import cut_tree\n",
    "\n",
    "import warnings\n",
    "warnings.filterwarnings('ignore')"
   ]
  },
  {
   "cell_type": "code",
   "execution_count": 2,
   "metadata": {},
   "outputs": [],
   "source": [
    "country_df = pd.read_csv(\"Country-data.csv\")"
   ]
  },
  {
   "cell_type": "code",
   "execution_count": 3,
   "metadata": {},
   "outputs": [
    {
     "data": {
      "text/html": [
       "<div>\n",
       "<style scoped>\n",
       "    .dataframe tbody tr th:only-of-type {\n",
       "        vertical-align: middle;\n",
       "    }\n",
       "\n",
       "    .dataframe tbody tr th {\n",
       "        vertical-align: top;\n",
       "    }\n",
       "\n",
       "    .dataframe thead th {\n",
       "        text-align: right;\n",
       "    }\n",
       "</style>\n",
       "<table border=\"1\" class=\"dataframe\">\n",
       "  <thead>\n",
       "    <tr style=\"text-align: right;\">\n",
       "      <th></th>\n",
       "      <th>country</th>\n",
       "      <th>child_mort</th>\n",
       "      <th>exports</th>\n",
       "      <th>health</th>\n",
       "      <th>imports</th>\n",
       "      <th>income</th>\n",
       "      <th>inflation</th>\n",
       "      <th>life_expec</th>\n",
       "      <th>total_fer</th>\n",
       "      <th>gdpp</th>\n",
       "    </tr>\n",
       "  </thead>\n",
       "  <tbody>\n",
       "    <tr>\n",
       "      <td>0</td>\n",
       "      <td>Afghanistan</td>\n",
       "      <td>90.2</td>\n",
       "      <td>10.0</td>\n",
       "      <td>7.58</td>\n",
       "      <td>44.9</td>\n",
       "      <td>1610</td>\n",
       "      <td>9.44</td>\n",
       "      <td>56.2</td>\n",
       "      <td>5.82</td>\n",
       "      <td>553</td>\n",
       "    </tr>\n",
       "    <tr>\n",
       "      <td>1</td>\n",
       "      <td>Albania</td>\n",
       "      <td>16.6</td>\n",
       "      <td>28.0</td>\n",
       "      <td>6.55</td>\n",
       "      <td>48.6</td>\n",
       "      <td>9930</td>\n",
       "      <td>4.49</td>\n",
       "      <td>76.3</td>\n",
       "      <td>1.65</td>\n",
       "      <td>4090</td>\n",
       "    </tr>\n",
       "    <tr>\n",
       "      <td>2</td>\n",
       "      <td>Algeria</td>\n",
       "      <td>27.3</td>\n",
       "      <td>38.4</td>\n",
       "      <td>4.17</td>\n",
       "      <td>31.4</td>\n",
       "      <td>12900</td>\n",
       "      <td>16.10</td>\n",
       "      <td>76.5</td>\n",
       "      <td>2.89</td>\n",
       "      <td>4460</td>\n",
       "    </tr>\n",
       "    <tr>\n",
       "      <td>3</td>\n",
       "      <td>Angola</td>\n",
       "      <td>119.0</td>\n",
       "      <td>62.3</td>\n",
       "      <td>2.85</td>\n",
       "      <td>42.9</td>\n",
       "      <td>5900</td>\n",
       "      <td>22.40</td>\n",
       "      <td>60.1</td>\n",
       "      <td>6.16</td>\n",
       "      <td>3530</td>\n",
       "    </tr>\n",
       "    <tr>\n",
       "      <td>4</td>\n",
       "      <td>Antigua and Barbuda</td>\n",
       "      <td>10.3</td>\n",
       "      <td>45.5</td>\n",
       "      <td>6.03</td>\n",
       "      <td>58.9</td>\n",
       "      <td>19100</td>\n",
       "      <td>1.44</td>\n",
       "      <td>76.8</td>\n",
       "      <td>2.13</td>\n",
       "      <td>12200</td>\n",
       "    </tr>\n",
       "  </tbody>\n",
       "</table>\n",
       "</div>"
      ],
      "text/plain": [
       "               country  child_mort  exports  health  imports  income  \\\n",
       "0          Afghanistan        90.2     10.0    7.58     44.9    1610   \n",
       "1              Albania        16.6     28.0    6.55     48.6    9930   \n",
       "2              Algeria        27.3     38.4    4.17     31.4   12900   \n",
       "3               Angola       119.0     62.3    2.85     42.9    5900   \n",
       "4  Antigua and Barbuda        10.3     45.5    6.03     58.9   19100   \n",
       "\n",
       "   inflation  life_expec  total_fer   gdpp  \n",
       "0       9.44        56.2       5.82    553  \n",
       "1       4.49        76.3       1.65   4090  \n",
       "2      16.10        76.5       2.89   4460  \n",
       "3      22.40        60.1       6.16   3530  \n",
       "4       1.44        76.8       2.13  12200  "
      ]
     },
     "execution_count": 3,
     "metadata": {},
     "output_type": "execute_result"
    }
   ],
   "source": [
    "country_df.head()"
   ]
  },
  {
   "cell_type": "code",
   "execution_count": 4,
   "metadata": {},
   "outputs": [
    {
     "data": {
      "text/plain": [
       "(167, 10)"
      ]
     },
     "execution_count": 4,
     "metadata": {},
     "output_type": "execute_result"
    }
   ],
   "source": [
    "country_df.shape"
   ]
  },
  {
   "cell_type": "markdown",
   "metadata": {},
   "source": [
    "We have 10 dimensions which is very difficult to work with.\n",
    "Lets see the data types of these 10 columns."
   ]
  },
  {
   "cell_type": "code",
   "execution_count": 5,
   "metadata": {},
   "outputs": [
    {
     "name": "stdout",
     "output_type": "stream",
     "text": [
      "<class 'pandas.core.frame.DataFrame'>\n",
      "RangeIndex: 167 entries, 0 to 166\n",
      "Data columns (total 10 columns):\n",
      "country       167 non-null object\n",
      "child_mort    167 non-null float64\n",
      "exports       167 non-null float64\n",
      "health        167 non-null float64\n",
      "imports       167 non-null float64\n",
      "income        167 non-null int64\n",
      "inflation     167 non-null float64\n",
      "life_expec    167 non-null float64\n",
      "total_fer     167 non-null float64\n",
      "gdpp          167 non-null int64\n",
      "dtypes: float64(7), int64(2), object(1)\n",
      "memory usage: 13.2+ KB\n"
     ]
    }
   ],
   "source": [
    "country_df.info()"
   ]
  },
  {
   "cell_type": "markdown",
   "metadata": {},
   "source": [
    "No null values are observed."
   ]
  },
  {
   "cell_type": "code",
   "execution_count": 6,
   "metadata": {},
   "outputs": [
    {
     "data": {
      "text/html": [
       "<div>\n",
       "<style scoped>\n",
       "    .dataframe tbody tr th:only-of-type {\n",
       "        vertical-align: middle;\n",
       "    }\n",
       "\n",
       "    .dataframe tbody tr th {\n",
       "        vertical-align: top;\n",
       "    }\n",
       "\n",
       "    .dataframe thead th {\n",
       "        text-align: right;\n",
       "    }\n",
       "</style>\n",
       "<table border=\"1\" class=\"dataframe\">\n",
       "  <thead>\n",
       "    <tr style=\"text-align: right;\">\n",
       "      <th></th>\n",
       "      <th>child_mort</th>\n",
       "      <th>exports</th>\n",
       "      <th>health</th>\n",
       "      <th>imports</th>\n",
       "      <th>income</th>\n",
       "      <th>inflation</th>\n",
       "      <th>life_expec</th>\n",
       "      <th>total_fer</th>\n",
       "      <th>gdpp</th>\n",
       "    </tr>\n",
       "  </thead>\n",
       "  <tbody>\n",
       "    <tr>\n",
       "      <td>count</td>\n",
       "      <td>167.000000</td>\n",
       "      <td>167.000000</td>\n",
       "      <td>167.000000</td>\n",
       "      <td>167.000000</td>\n",
       "      <td>167.000000</td>\n",
       "      <td>167.000000</td>\n",
       "      <td>167.000000</td>\n",
       "      <td>167.000000</td>\n",
       "      <td>167.000000</td>\n",
       "    </tr>\n",
       "    <tr>\n",
       "      <td>mean</td>\n",
       "      <td>38.270060</td>\n",
       "      <td>41.108976</td>\n",
       "      <td>6.815689</td>\n",
       "      <td>46.890215</td>\n",
       "      <td>17144.688623</td>\n",
       "      <td>7.781832</td>\n",
       "      <td>70.555689</td>\n",
       "      <td>2.947964</td>\n",
       "      <td>12964.155689</td>\n",
       "    </tr>\n",
       "    <tr>\n",
       "      <td>std</td>\n",
       "      <td>40.328931</td>\n",
       "      <td>27.412010</td>\n",
       "      <td>2.746837</td>\n",
       "      <td>24.209589</td>\n",
       "      <td>19278.067698</td>\n",
       "      <td>10.570704</td>\n",
       "      <td>8.893172</td>\n",
       "      <td>1.513848</td>\n",
       "      <td>18328.704809</td>\n",
       "    </tr>\n",
       "    <tr>\n",
       "      <td>min</td>\n",
       "      <td>2.600000</td>\n",
       "      <td>0.109000</td>\n",
       "      <td>1.810000</td>\n",
       "      <td>0.065900</td>\n",
       "      <td>609.000000</td>\n",
       "      <td>-4.210000</td>\n",
       "      <td>32.100000</td>\n",
       "      <td>1.150000</td>\n",
       "      <td>231.000000</td>\n",
       "    </tr>\n",
       "    <tr>\n",
       "      <td>25%</td>\n",
       "      <td>8.250000</td>\n",
       "      <td>23.800000</td>\n",
       "      <td>4.920000</td>\n",
       "      <td>30.200000</td>\n",
       "      <td>3355.000000</td>\n",
       "      <td>1.810000</td>\n",
       "      <td>65.300000</td>\n",
       "      <td>1.795000</td>\n",
       "      <td>1330.000000</td>\n",
       "    </tr>\n",
       "    <tr>\n",
       "      <td>50%</td>\n",
       "      <td>19.300000</td>\n",
       "      <td>35.000000</td>\n",
       "      <td>6.320000</td>\n",
       "      <td>43.300000</td>\n",
       "      <td>9960.000000</td>\n",
       "      <td>5.390000</td>\n",
       "      <td>73.100000</td>\n",
       "      <td>2.410000</td>\n",
       "      <td>4660.000000</td>\n",
       "    </tr>\n",
       "    <tr>\n",
       "      <td>75%</td>\n",
       "      <td>62.100000</td>\n",
       "      <td>51.350000</td>\n",
       "      <td>8.600000</td>\n",
       "      <td>58.750000</td>\n",
       "      <td>22800.000000</td>\n",
       "      <td>10.750000</td>\n",
       "      <td>76.800000</td>\n",
       "      <td>3.880000</td>\n",
       "      <td>14050.000000</td>\n",
       "    </tr>\n",
       "    <tr>\n",
       "      <td>max</td>\n",
       "      <td>208.000000</td>\n",
       "      <td>200.000000</td>\n",
       "      <td>17.900000</td>\n",
       "      <td>174.000000</td>\n",
       "      <td>125000.000000</td>\n",
       "      <td>104.000000</td>\n",
       "      <td>82.800000</td>\n",
       "      <td>7.490000</td>\n",
       "      <td>105000.000000</td>\n",
       "    </tr>\n",
       "  </tbody>\n",
       "</table>\n",
       "</div>"
      ],
      "text/plain": [
       "       child_mort     exports      health     imports         income  \\\n",
       "count  167.000000  167.000000  167.000000  167.000000     167.000000   \n",
       "mean    38.270060   41.108976    6.815689   46.890215   17144.688623   \n",
       "std     40.328931   27.412010    2.746837   24.209589   19278.067698   \n",
       "min      2.600000    0.109000    1.810000    0.065900     609.000000   \n",
       "25%      8.250000   23.800000    4.920000   30.200000    3355.000000   \n",
       "50%     19.300000   35.000000    6.320000   43.300000    9960.000000   \n",
       "75%     62.100000   51.350000    8.600000   58.750000   22800.000000   \n",
       "max    208.000000  200.000000   17.900000  174.000000  125000.000000   \n",
       "\n",
       "        inflation  life_expec   total_fer           gdpp  \n",
       "count  167.000000  167.000000  167.000000     167.000000  \n",
       "mean     7.781832   70.555689    2.947964   12964.155689  \n",
       "std     10.570704    8.893172    1.513848   18328.704809  \n",
       "min     -4.210000   32.100000    1.150000     231.000000  \n",
       "25%      1.810000   65.300000    1.795000    1330.000000  \n",
       "50%      5.390000   73.100000    2.410000    4660.000000  \n",
       "75%     10.750000   76.800000    3.880000   14050.000000  \n",
       "max    104.000000   82.800000    7.490000  105000.000000  "
      ]
     },
     "execution_count": 6,
     "metadata": {},
     "output_type": "execute_result"
    }
   ],
   "source": [
    "country_df.describe()"
   ]
  },
  {
   "cell_type": "markdown",
   "metadata": {},
   "source": [
    "Afghanistan and albania have similar imports percentange but their gdpp has a huge gap which doesn't give an accurate idea of which country is more developed than the other. Lets get absolute values for these values."
   ]
  },
  {
   "cell_type": "code",
   "execution_count": 7,
   "metadata": {},
   "outputs": [],
   "source": [
    "# Converting exports,imports and health spending percentages to absolute values\n",
    "country_df['exports'] = country_df['exports']*country_df['gdpp']/100\n",
    "country_df['imports'] = country_df['imports']*country_df['gdpp']/100\n",
    "country_df['health'] = country_df['health']*country_df['gdpp']/100"
   ]
  },
  {
   "cell_type": "code",
   "execution_count": 8,
   "metadata": {},
   "outputs": [
    {
     "data": {
      "text/html": [
       "<div>\n",
       "<style scoped>\n",
       "    .dataframe tbody tr th:only-of-type {\n",
       "        vertical-align: middle;\n",
       "    }\n",
       "\n",
       "    .dataframe tbody tr th {\n",
       "        vertical-align: top;\n",
       "    }\n",
       "\n",
       "    .dataframe thead th {\n",
       "        text-align: right;\n",
       "    }\n",
       "</style>\n",
       "<table border=\"1\" class=\"dataframe\">\n",
       "  <thead>\n",
       "    <tr style=\"text-align: right;\">\n",
       "      <th></th>\n",
       "      <th>child_mort</th>\n",
       "      <th>exports</th>\n",
       "      <th>health</th>\n",
       "      <th>imports</th>\n",
       "      <th>income</th>\n",
       "      <th>inflation</th>\n",
       "      <th>life_expec</th>\n",
       "      <th>total_fer</th>\n",
       "      <th>gdpp</th>\n",
       "    </tr>\n",
       "  </thead>\n",
       "  <tbody>\n",
       "    <tr>\n",
       "      <td>count</td>\n",
       "      <td>167.000000</td>\n",
       "      <td>167.000000</td>\n",
       "      <td>167.000000</td>\n",
       "      <td>167.000000</td>\n",
       "      <td>167.000000</td>\n",
       "      <td>167.000000</td>\n",
       "      <td>167.000000</td>\n",
       "      <td>167.000000</td>\n",
       "      <td>167.000000</td>\n",
       "    </tr>\n",
       "    <tr>\n",
       "      <td>mean</td>\n",
       "      <td>38.270060</td>\n",
       "      <td>7420.618847</td>\n",
       "      <td>1056.733204</td>\n",
       "      <td>6588.352108</td>\n",
       "      <td>17144.688623</td>\n",
       "      <td>7.781832</td>\n",
       "      <td>70.555689</td>\n",
       "      <td>2.947964</td>\n",
       "      <td>12964.155689</td>\n",
       "    </tr>\n",
       "    <tr>\n",
       "      <td>std</td>\n",
       "      <td>40.328931</td>\n",
       "      <td>17973.885795</td>\n",
       "      <td>1801.408906</td>\n",
       "      <td>14710.810418</td>\n",
       "      <td>19278.067698</td>\n",
       "      <td>10.570704</td>\n",
       "      <td>8.893172</td>\n",
       "      <td>1.513848</td>\n",
       "      <td>18328.704809</td>\n",
       "    </tr>\n",
       "    <tr>\n",
       "      <td>min</td>\n",
       "      <td>2.600000</td>\n",
       "      <td>1.076920</td>\n",
       "      <td>12.821200</td>\n",
       "      <td>0.651092</td>\n",
       "      <td>609.000000</td>\n",
       "      <td>-4.210000</td>\n",
       "      <td>32.100000</td>\n",
       "      <td>1.150000</td>\n",
       "      <td>231.000000</td>\n",
       "    </tr>\n",
       "    <tr>\n",
       "      <td>25%</td>\n",
       "      <td>8.250000</td>\n",
       "      <td>447.140000</td>\n",
       "      <td>78.535500</td>\n",
       "      <td>640.215000</td>\n",
       "      <td>3355.000000</td>\n",
       "      <td>1.810000</td>\n",
       "      <td>65.300000</td>\n",
       "      <td>1.795000</td>\n",
       "      <td>1330.000000</td>\n",
       "    </tr>\n",
       "    <tr>\n",
       "      <td>50%</td>\n",
       "      <td>19.300000</td>\n",
       "      <td>1777.440000</td>\n",
       "      <td>321.886000</td>\n",
       "      <td>2045.580000</td>\n",
       "      <td>9960.000000</td>\n",
       "      <td>5.390000</td>\n",
       "      <td>73.100000</td>\n",
       "      <td>2.410000</td>\n",
       "      <td>4660.000000</td>\n",
       "    </tr>\n",
       "    <tr>\n",
       "      <td>75%</td>\n",
       "      <td>62.100000</td>\n",
       "      <td>7278.000000</td>\n",
       "      <td>976.940000</td>\n",
       "      <td>7719.600000</td>\n",
       "      <td>22800.000000</td>\n",
       "      <td>10.750000</td>\n",
       "      <td>76.800000</td>\n",
       "      <td>3.880000</td>\n",
       "      <td>14050.000000</td>\n",
       "    </tr>\n",
       "    <tr>\n",
       "      <td>max</td>\n",
       "      <td>208.000000</td>\n",
       "      <td>183750.000000</td>\n",
       "      <td>8663.600000</td>\n",
       "      <td>149100.000000</td>\n",
       "      <td>125000.000000</td>\n",
       "      <td>104.000000</td>\n",
       "      <td>82.800000</td>\n",
       "      <td>7.490000</td>\n",
       "      <td>105000.000000</td>\n",
       "    </tr>\n",
       "  </tbody>\n",
       "</table>\n",
       "</div>"
      ],
      "text/plain": [
       "       child_mort        exports       health        imports         income  \\\n",
       "count  167.000000     167.000000   167.000000     167.000000     167.000000   \n",
       "mean    38.270060    7420.618847  1056.733204    6588.352108   17144.688623   \n",
       "std     40.328931   17973.885795  1801.408906   14710.810418   19278.067698   \n",
       "min      2.600000       1.076920    12.821200       0.651092     609.000000   \n",
       "25%      8.250000     447.140000    78.535500     640.215000    3355.000000   \n",
       "50%     19.300000    1777.440000   321.886000    2045.580000    9960.000000   \n",
       "75%     62.100000    7278.000000   976.940000    7719.600000   22800.000000   \n",
       "max    208.000000  183750.000000  8663.600000  149100.000000  125000.000000   \n",
       "\n",
       "        inflation  life_expec   total_fer           gdpp  \n",
       "count  167.000000  167.000000  167.000000     167.000000  \n",
       "mean     7.781832   70.555689    2.947964   12964.155689  \n",
       "std     10.570704    8.893172    1.513848   18328.704809  \n",
       "min     -4.210000   32.100000    1.150000     231.000000  \n",
       "25%      1.810000   65.300000    1.795000    1330.000000  \n",
       "50%      5.390000   73.100000    2.410000    4660.000000  \n",
       "75%     10.750000   76.800000    3.880000   14050.000000  \n",
       "max    104.000000   82.800000    7.490000  105000.000000  "
      ]
     },
     "execution_count": 8,
     "metadata": {},
     "output_type": "execute_result"
    }
   ],
   "source": [
    "country_df.describe()"
   ]
  },
  {
   "cell_type": "markdown",
   "metadata": {},
   "source": [
    "## 2. Outlier Analysis"
   ]
  },
  {
   "cell_type": "code",
   "execution_count": 9,
   "metadata": {},
   "outputs": [
    {
     "data": {
      "image/png": "[encoded data removed]",
      "text/plain": [
       "<Figure size 1080x1080 with 9 Axes>"
      ]
     },
     "metadata": {
      "needs_background": "light"
     },
     "output_type": "display_data"
    }
   ],
   "source": [
    "# We will see how values in each columns are distributed using boxplot\n",
    "fig, axs = plt.subplots(3,3,figsize = (15,15))\n",
    "plt1 = sns.boxplot(country_df['child_mort'], ax = axs[0,0])\n",
    "plt2 = sns.boxplot(country_df['health'], ax = axs[0,1])\n",
    "plt3 = sns.boxplot(country_df['life_expec'], ax = axs[0,2])\n",
    "plt4 = sns.boxplot(country_df['total_fer'], ax = axs[1,0])\n",
    "plt5 = sns.boxplot(country_df['income'], ax = axs[1,1])\n",
    "plt6 = sns.boxplot(country_df['inflation'], ax = axs[1,2])\n",
    "plt7 = sns.boxplot(country_df['gdpp'], ax = axs[2,0])\n",
    "plt8 = sns.boxplot(country_df['imports'], ax = axs[2,1])\n",
    "plt9 = sns.boxplot(country_df['exports'], ax = axs[2,2])\n",
    "\n",
    "\n",
    "plt.tight_layout()"
   ]
  },
  {
   "cell_type": "code",
   "execution_count": 10,
   "metadata": {},
   "outputs": [],
   "source": [
    "# We will cap the outliers to values accordingly for analysis.\n",
    "\n",
    "percentiles = country_df['child_mort'].quantile([0.05,0.95]).values\n",
    "country_df['child_mort'][country_df['child_mort'] <= percentiles[0]] = percentiles[0]\n",
    "country_df['child_mort'][country_df['child_mort'] >= percentiles[1]] = percentiles[1]\n",
    "\n",
    "percentiles = country_df['health'].quantile([0.05,0.95]).values\n",
    "country_df['health'][country_df['health'] <= percentiles[0]] = percentiles[0]\n",
    "country_df['health'][country_df['health'] >= percentiles[1]] = percentiles[1]\n",
    "\n",
    "percentiles = country_df['life_expec'].quantile([0.05,0.95]).values\n",
    "country_df['life_expec'][country_df['life_expec'] <= percentiles[0]] = percentiles[0]\n",
    "country_df['life_expec'][country_df['life_expec'] >= percentiles[1]] = percentiles[1]\n",
    "\n",
    "percentiles = country_df['total_fer'].quantile([0.05,0.95]).values\n",
    "country_df['total_fer'][country_df['total_fer'] <= percentiles[0]] = percentiles[0]\n",
    "country_df['total_fer'][country_df['total_fer'] >= percentiles[1]] = percentiles[1]\n",
    "\n",
    "percentiles = country_df['income'].quantile([0.05,0.95]).values\n",
    "country_df['income'][country_df['income'] <= percentiles[0]] = percentiles[0]\n",
    "country_df['income'][country_df['income'] >= percentiles[1]] = percentiles[1]\n",
    "\n",
    "percentiles = country_df['inflation'].quantile([0.05,0.95]).values\n",
    "country_df['inflation'][country_df['inflation'] <= percentiles[0]] = percentiles[0]\n",
    "country_df['inflation'][country_df['inflation'] >= percentiles[1]] = percentiles[1]\n",
    "\n",
    "percentiles = country_df['gdpp'].quantile([0.05,0.95]).values\n",
    "country_df['gdpp'][country_df['gdpp'] <= percentiles[0]] = percentiles[0]\n",
    "country_df['gdpp'][country_df['gdpp'] >= percentiles[1]] = percentiles[1]\n",
    "\n",
    "percentiles = country_df['imports'].quantile([0.05,0.95]).values\n",
    "country_df['imports'][country_df['imports'] <= percentiles[0]] = percentiles[0]\n",
    "country_df['imports'][country_df['imports'] >= percentiles[1]] = percentiles[1]\n",
    "\n",
    "percentiles = country_df['exports'].quantile([0.05,0.95]).values\n",
    "country_df['exports'][country_df['exports'] <= percentiles[0]] = percentiles[0]\n",
    "country_df['exports'][country_df['exports'] >= percentiles[1]] = percentiles[1]"
   ]
  },
  {
   "cell_type": "code",
   "execution_count": 11,
   "metadata": {},
   "outputs": [
    {
     "data": {
      "image/png": "[encoded data removed]",
      "text/plain": [
       "<Figure size 1080x1080 with 9 Axes>"
      ]
     },
     "metadata": {
      "needs_background": "light"
     },
     "output_type": "display_data"
    }
   ],
   "source": [
    "# We will see how values in each columns are distributed after handling the outliers using boxplot\n",
    "fig, axs = plt.subplots(3,3,figsize = (15,15))\n",
    "plt1 = sns.boxplot(country_df['child_mort'], ax = axs[0,0])\n",
    "plt2 = sns.boxplot(country_df['health'], ax = axs[0,1])\n",
    "plt3 = sns.boxplot(country_df['life_expec'], ax = axs[0,2])\n",
    "plt4 = sns.boxplot(country_df['total_fer'], ax = axs[1,0])\n",
    "plt5 = sns.boxplot(country_df['income'], ax = axs[1,1])\n",
    "plt6 = sns.boxplot(country_df['inflation'], ax = axs[1,2])\n",
    "plt7 = sns.boxplot(country_df['gdpp'], ax = axs[2,0])\n",
    "plt8 = sns.boxplot(country_df['imports'], ax = axs[2,1])\n",
    "plt9 = sns.boxplot(country_df['exports'], ax = axs[2,2])\n",
    "\n",
    "\n",
    "plt.tight_layout()"
   ]
  },
  {
   "cell_type": "markdown",
   "metadata": {},
   "source": [
    "Some of the outliers are handled here."
   ]
  },
  {
   "cell_type": "markdown",
   "metadata": {},
   "source": [
    "# 3. Visualize the correlation and Data Preparation:"
   ]
  },
  {
   "cell_type": "code",
   "execution_count": 13,
   "metadata": {},
   "outputs": [
    {
     "data": {
      "image/png": "[encoded data removed]",
      "text/plain": [
       "<Figure size 1440x720 with 2 Axes>"
      ]
     },
     "metadata": {
      "needs_background": "light"
     },
     "output_type": "display_data"
    }
   ],
   "source": [
    "# Correlation - Heatmap\n",
    "corre = country_df.corr()\n",
    "plt.figure(figsize =(20,10))\n",
    "ax = sns.heatmap(corre, annot = True)\n",
    "bottom, top = ax.get_ylim()\n",
    "ax.set_ylim(bottom + 0.5, top - 0.5)\n",
    "plt.show()"
   ]
  },
  {
   "cell_type": "markdown",
   "metadata": {},
   "source": [
    "A lot of highly correlated variables exist, hence the usage of PCA is justified."
   ]
  },
  {
   "cell_type": "markdown",
   "metadata": {},
   "source": [
    "### Data Preparation"
   ]
  },
  {
   "cell_type": "code",
   "execution_count": 13,
   "metadata": {},
   "outputs": [
    {
     "data": {
      "text/html": [
       "<div>\n",
       "<style scoped>\n",
       "    .dataframe tbody tr th:only-of-type {\n",
       "        vertical-align: middle;\n",
       "    }\n",
       "\n",
       "    .dataframe tbody tr th {\n",
       "        vertical-align: top;\n",
       "    }\n",
       "\n",
       "    .dataframe thead th {\n",
       "        text-align: right;\n",
       "    }\n",
       "</style>\n",
       "<table border=\"1\" class=\"dataframe\">\n",
       "  <thead>\n",
       "    <tr style=\"text-align: right;\">\n",
       "      <th></th>\n",
       "      <th>child_mort</th>\n",
       "      <th>exports</th>\n",
       "      <th>health</th>\n",
       "      <th>imports</th>\n",
       "      <th>income</th>\n",
       "      <th>inflation</th>\n",
       "      <th>life_expec</th>\n",
       "      <th>total_fer</th>\n",
       "      <th>gdpp</th>\n",
       "    </tr>\n",
       "  </thead>\n",
       "  <tbody>\n",
       "    <tr>\n",
       "      <td>0</td>\n",
       "      <td>90.2</td>\n",
       "      <td>70.4688</td>\n",
       "      <td>41.9174</td>\n",
       "      <td>248.297</td>\n",
       "      <td>1610.0</td>\n",
       "      <td>9.44</td>\n",
       "      <td>56.20</td>\n",
       "      <td>5.820</td>\n",
       "      <td>553.0</td>\n",
       "    </tr>\n",
       "    <tr>\n",
       "      <td>1</td>\n",
       "      <td>16.6</td>\n",
       "      <td>1145.2000</td>\n",
       "      <td>267.8950</td>\n",
       "      <td>1987.740</td>\n",
       "      <td>9930.0</td>\n",
       "      <td>4.49</td>\n",
       "      <td>76.30</td>\n",
       "      <td>1.650</td>\n",
       "      <td>4090.0</td>\n",
       "    </tr>\n",
       "    <tr>\n",
       "      <td>2</td>\n",
       "      <td>27.3</td>\n",
       "      <td>1712.6400</td>\n",
       "      <td>185.9820</td>\n",
       "      <td>1400.440</td>\n",
       "      <td>12900.0</td>\n",
       "      <td>16.10</td>\n",
       "      <td>76.50</td>\n",
       "      <td>2.890</td>\n",
       "      <td>4460.0</td>\n",
       "    </tr>\n",
       "    <tr>\n",
       "      <td>3</td>\n",
       "      <td>116.0</td>\n",
       "      <td>2199.1900</td>\n",
       "      <td>100.6050</td>\n",
       "      <td>1514.370</td>\n",
       "      <td>5900.0</td>\n",
       "      <td>20.87</td>\n",
       "      <td>60.10</td>\n",
       "      <td>5.861</td>\n",
       "      <td>3530.0</td>\n",
       "    </tr>\n",
       "    <tr>\n",
       "      <td>4</td>\n",
       "      <td>10.3</td>\n",
       "      <td>5551.0000</td>\n",
       "      <td>735.6600</td>\n",
       "      <td>7185.800</td>\n",
       "      <td>19100.0</td>\n",
       "      <td>1.44</td>\n",
       "      <td>76.80</td>\n",
       "      <td>2.130</td>\n",
       "      <td>12200.0</td>\n",
       "    </tr>\n",
       "    <tr>\n",
       "      <td>...</td>\n",
       "      <td>...</td>\n",
       "      <td>...</td>\n",
       "      <td>...</td>\n",
       "      <td>...</td>\n",
       "      <td>...</td>\n",
       "      <td>...</td>\n",
       "      <td>...</td>\n",
       "      <td>...</td>\n",
       "      <td>...</td>\n",
       "    </tr>\n",
       "    <tr>\n",
       "      <td>162</td>\n",
       "      <td>29.2</td>\n",
       "      <td>1384.0200</td>\n",
       "      <td>155.9250</td>\n",
       "      <td>1565.190</td>\n",
       "      <td>2950.0</td>\n",
       "      <td>2.62</td>\n",
       "      <td>63.00</td>\n",
       "      <td>3.500</td>\n",
       "      <td>2970.0</td>\n",
       "    </tr>\n",
       "    <tr>\n",
       "      <td>163</td>\n",
       "      <td>17.1</td>\n",
       "      <td>3847.5000</td>\n",
       "      <td>662.8500</td>\n",
       "      <td>2376.000</td>\n",
       "      <td>16500.0</td>\n",
       "      <td>20.87</td>\n",
       "      <td>75.40</td>\n",
       "      <td>2.470</td>\n",
       "      <td>13500.0</td>\n",
       "    </tr>\n",
       "    <tr>\n",
       "      <td>164</td>\n",
       "      <td>23.3</td>\n",
       "      <td>943.2000</td>\n",
       "      <td>89.6040</td>\n",
       "      <td>1050.620</td>\n",
       "      <td>4490.0</td>\n",
       "      <td>12.10</td>\n",
       "      <td>73.10</td>\n",
       "      <td>1.950</td>\n",
       "      <td>1310.0</td>\n",
       "    </tr>\n",
       "    <tr>\n",
       "      <td>165</td>\n",
       "      <td>56.3</td>\n",
       "      <td>393.0000</td>\n",
       "      <td>67.8580</td>\n",
       "      <td>450.640</td>\n",
       "      <td>4480.0</td>\n",
       "      <td>20.87</td>\n",
       "      <td>67.50</td>\n",
       "      <td>4.670</td>\n",
       "      <td>1310.0</td>\n",
       "    </tr>\n",
       "    <tr>\n",
       "      <td>166</td>\n",
       "      <td>83.1</td>\n",
       "      <td>540.2000</td>\n",
       "      <td>85.9940</td>\n",
       "      <td>451.140</td>\n",
       "      <td>3280.0</td>\n",
       "      <td>14.00</td>\n",
       "      <td>55.78</td>\n",
       "      <td>5.400</td>\n",
       "      <td>1460.0</td>\n",
       "    </tr>\n",
       "  </tbody>\n",
       "</table>\n",
       "<p>167 rows × 9 columns</p>\n",
       "</div>"
      ],
      "text/plain": [
       "     child_mort    exports    health   imports   income  inflation  \\\n",
       "0          90.2    70.4688   41.9174   248.297   1610.0       9.44   \n",
       "1          16.6  1145.2000  267.8950  1987.740   9930.0       4.49   \n",
       "2          27.3  1712.6400  185.9820  1400.440  12900.0      16.10   \n",
       "3         116.0  2199.1900  100.6050  1514.370   5900.0      20.87   \n",
       "4          10.3  5551.0000  735.6600  7185.800  19100.0       1.44   \n",
       "..          ...        ...       ...       ...      ...        ...   \n",
       "162        29.2  1384.0200  155.9250  1565.190   2950.0       2.62   \n",
       "163        17.1  3847.5000  662.8500  2376.000  16500.0      20.87   \n",
       "164        23.3   943.2000   89.6040  1050.620   4490.0      12.10   \n",
       "165        56.3   393.0000   67.8580   450.640   4480.0      20.87   \n",
       "166        83.1   540.2000   85.9940   451.140   3280.0      14.00   \n",
       "\n",
       "     life_expec  total_fer     gdpp  \n",
       "0         56.20      5.820    553.0  \n",
       "1         76.30      1.650   4090.0  \n",
       "2         76.50      2.890   4460.0  \n",
       "3         60.10      5.861   3530.0  \n",
       "4         76.80      2.130  12200.0  \n",
       "..          ...        ...      ...  \n",
       "162       63.00      3.500   2970.0  \n",
       "163       75.40      2.470  13500.0  \n",
       "164       73.10      1.950   1310.0  \n",
       "165       67.50      4.670   1310.0  \n",
       "166       55.78      5.400   1460.0  \n",
       "\n",
       "[167 rows x 9 columns]"
      ]
     },
     "execution_count": 13,
     "metadata": {},
     "output_type": "execute_result"
    }
   ],
   "source": [
    "# The final matrix would only contain the data columns. Hence let's drop the country column\n",
    "X = country_df.copy()\n",
    "X = X.drop([\"country\"], axis =1)\n",
    "X"
   ]
  },
  {
   "cell_type": "code",
   "execution_count": 14,
   "metadata": {},
   "outputs": [
    {
     "data": {
      "text/plain": [
       "0        553.0\n",
       "1       4090.0\n",
       "2       4460.0\n",
       "3       3530.0\n",
       "4      12200.0\n",
       "        ...   \n",
       "162     2970.0\n",
       "163    13500.0\n",
       "164     1310.0\n",
       "165     1310.0\n",
       "166     1460.0\n",
       "Name: gdpp, Length: 167, dtype: float64"
      ]
     },
     "execution_count": 14,
     "metadata": {},
     "output_type": "execute_result"
    }
   ],
   "source": [
    "y = X.pop(\"gdpp\")\n",
    "y"
   ]
  },
  {
   "cell_type": "code",
   "execution_count": 15,
   "metadata": {},
   "outputs": [
    {
     "data": {
      "text/html": [
       "<div>\n",
       "<style scoped>\n",
       "    .dataframe tbody tr th:only-of-type {\n",
       "        vertical-align: middle;\n",
       "    }\n",
       "\n",
       "    .dataframe tbody tr th {\n",
       "        vertical-align: top;\n",
       "    }\n",
       "\n",
       "    .dataframe thead th {\n",
       "        text-align: right;\n",
       "    }\n",
       "</style>\n",
       "<table border=\"1\" class=\"dataframe\">\n",
       "  <thead>\n",
       "    <tr style=\"text-align: right;\">\n",
       "      <th></th>\n",
       "      <th>child_mort</th>\n",
       "      <th>exports</th>\n",
       "      <th>health</th>\n",
       "      <th>imports</th>\n",
       "      <th>income</th>\n",
       "      <th>inflation</th>\n",
       "      <th>life_expec</th>\n",
       "      <th>total_fer</th>\n",
       "    </tr>\n",
       "  </thead>\n",
       "  <tbody>\n",
       "    <tr>\n",
       "      <td>0</td>\n",
       "      <td>90.2</td>\n",
       "      <td>70.4688</td>\n",
       "      <td>41.9174</td>\n",
       "      <td>248.297</td>\n",
       "      <td>1610.0</td>\n",
       "      <td>9.44</td>\n",
       "      <td>56.2</td>\n",
       "      <td>5.820</td>\n",
       "    </tr>\n",
       "    <tr>\n",
       "      <td>1</td>\n",
       "      <td>16.6</td>\n",
       "      <td>1145.2000</td>\n",
       "      <td>267.8950</td>\n",
       "      <td>1987.740</td>\n",
       "      <td>9930.0</td>\n",
       "      <td>4.49</td>\n",
       "      <td>76.3</td>\n",
       "      <td>1.650</td>\n",
       "    </tr>\n",
       "    <tr>\n",
       "      <td>2</td>\n",
       "      <td>27.3</td>\n",
       "      <td>1712.6400</td>\n",
       "      <td>185.9820</td>\n",
       "      <td>1400.440</td>\n",
       "      <td>12900.0</td>\n",
       "      <td>16.10</td>\n",
       "      <td>76.5</td>\n",
       "      <td>2.890</td>\n",
       "    </tr>\n",
       "    <tr>\n",
       "      <td>3</td>\n",
       "      <td>116.0</td>\n",
       "      <td>2199.1900</td>\n",
       "      <td>100.6050</td>\n",
       "      <td>1514.370</td>\n",
       "      <td>5900.0</td>\n",
       "      <td>20.87</td>\n",
       "      <td>60.1</td>\n",
       "      <td>5.861</td>\n",
       "    </tr>\n",
       "    <tr>\n",
       "      <td>4</td>\n",
       "      <td>10.3</td>\n",
       "      <td>5551.0000</td>\n",
       "      <td>735.6600</td>\n",
       "      <td>7185.800</td>\n",
       "      <td>19100.0</td>\n",
       "      <td>1.44</td>\n",
       "      <td>76.8</td>\n",
       "      <td>2.130</td>\n",
       "    </tr>\n",
       "  </tbody>\n",
       "</table>\n",
       "</div>"
      ],
      "text/plain": [
       "   child_mort    exports    health   imports   income  inflation  life_expec  \\\n",
       "0        90.2    70.4688   41.9174   248.297   1610.0       9.44        56.2   \n",
       "1        16.6  1145.2000  267.8950  1987.740   9930.0       4.49        76.3   \n",
       "2        27.3  1712.6400  185.9820  1400.440  12900.0      16.10        76.5   \n",
       "3       116.0  2199.1900  100.6050  1514.370   5900.0      20.87        60.1   \n",
       "4        10.3  5551.0000  735.6600  7185.800  19100.0       1.44        76.8   \n",
       "\n",
       "   total_fer  \n",
       "0      5.820  \n",
       "1      1.650  \n",
       "2      2.890  \n",
       "3      5.861  \n",
       "4      2.130  "
      ]
     },
     "execution_count": 15,
     "metadata": {},
     "output_type": "execute_result"
    }
   ],
   "source": [
    "X.head()"
   ]
  },
  {
   "cell_type": "code",
   "execution_count": 16,
   "metadata": {},
   "outputs": [
    {
     "data": {
      "text/plain": [
       "array([[ 1.47958789, -0.66803864, -0.62977844, ...,  0.38766706,\n",
       "        -1.82530988,  2.02071786],\n",
       "       [-0.56002364, -0.54238923, -0.47380714, ..., -0.40400443,\n",
       "         0.68245351, -0.88733091],\n",
       "       [-0.26350403, -0.47604845, -0.53034406, ...,  1.45282506,\n",
       "         0.70740638, -0.02258739],\n",
       "       ...,\n",
       "       [-0.37435248, -0.56600553, -0.59686482, ...,  0.81309053,\n",
       "         0.2832076 , -0.67811877],\n",
       "       [ 0.54014725, -0.63033074, -0.61187406, ...,  2.2157085 ,\n",
       "        -0.41547275,  1.21873798],\n",
       "       [ 1.28283189, -0.61312123, -0.59935647, ...,  1.11696443,\n",
       "        -1.8777109 ,  1.72782086]])"
      ]
     },
     "execution_count": 16,
     "metadata": {},
     "output_type": "execute_result"
    }
   ],
   "source": [
    "# Rescaling using Standardization method\n",
    "# instantiate\n",
    "scaler = StandardScaler()\n",
    "# fit_transform\n",
    "x_scl = scaler.fit_transform(X)\n",
    "x_scl"
   ]
  },
  {
   "cell_type": "markdown",
   "metadata": {},
   "source": [
    "## 4. Use PCA and screeplot for choosing best number of PCs"
   ]
  },
  {
   "cell_type": "code",
   "execution_count": 17,
   "metadata": {},
   "outputs": [
    {
     "data": {
      "text/plain": [
       "PCA(copy=True, iterated_power='auto', n_components=None, random_state=42,\n",
       "    svd_solver='auto', tol=0.0, whiten=False)"
      ]
     },
     "execution_count": 17,
     "metadata": {},
     "output_type": "execute_result"
    }
   ],
   "source": [
    "# Using the PCA module\n",
    "pca = PCA(random_state=42)\n",
    "pca.fit(x_scl)"
   ]
  },
  {
   "cell_type": "code",
   "execution_count": 18,
   "metadata": {},
   "outputs": [
    {
     "data": {
      "text/plain": [
       "array([[-0.35332201,  0.36905857,  0.36573904,  0.38967201,  0.39708397,\n",
       "        -0.19363446,  0.37951745, -0.33785579],\n",
       "       [ 0.45751377,  0.40840089,  0.28861052,  0.3456592 ,  0.22507472,\n",
       "         0.18319949, -0.30871268,  0.49151739],\n",
       "       [-0.17878695,  0.06607758, -0.13747222, -0.04433839,  0.16864298,\n",
       "         0.9376255 ,  0.15486666, -0.106013  ],\n",
       "       [ 0.02932754, -0.46913468,  0.76703904, -0.29184387,  0.0469907 ,\n",
       "         0.11348116,  0.2276506 ,  0.19651953],\n",
       "       [ 0.1288689 , -0.08753394,  0.28400801, -0.01931682,  0.05428485,\n",
       "         0.09406042, -0.65624408, -0.6724927 ],\n",
       "       [ 0.16190707, -0.14092313, -0.25890558, -0.36848197,  0.85087452,\n",
       "        -0.15932112, -0.03135165,  0.0276064 ],\n",
       "       [-0.76653162, -0.04869216,  0.04741893, -0.00766463,  0.1124139 ,\n",
       "        -0.03079817, -0.50317291,  0.37547659],\n",
       "       [ 0.05126415, -0.66532583, -0.16046876,  0.71086275,  0.14644429,\n",
       "         0.04177298,  0.00568509,  0.02035266]])"
      ]
     },
     "execution_count": 18,
     "metadata": {},
     "output_type": "execute_result"
    }
   ],
   "source": [
    "# List of PCA components\n",
    "# the same as the number of variables\n",
    "pca.components_"
   ]
  },
  {
   "cell_type": "code",
   "execution_count": 19,
   "metadata": {},
   "outputs": [
    {
     "data": {
      "text/plain": [
       "array([0.66491472, 0.15304753, 0.10695257, 0.03211732, 0.01827586,\n",
       "       0.01252299, 0.00999854, 0.00217047])"
      ]
     },
     "execution_count": 19,
     "metadata": {},
     "output_type": "execute_result"
    }
   ],
   "source": [
    "# Let's check the variance ratios\n",
    "pca.explained_variance_ratio_"
   ]
  },
  {
   "cell_type": "code",
   "execution_count": 20,
   "metadata": {},
   "outputs": [
    {
     "data": {
      "text/plain": [
       "<BarContainer object of 8 artists>"
      ]
     },
     "execution_count": 20,
     "metadata": {},
     "output_type": "execute_result"
    },
    {
     "data": {
      "image/png": "[encoded data removed]",
      "text/plain": [
       "<Figure size 432x288 with 1 Axes>"
      ]
     },
     "metadata": {
      "needs_background": "light"
     },
     "output_type": "display_data"
    }
   ],
   "source": [
    "# Plotting explained variance ratio\n",
    "plt.bar(range(1,len(pca.explained_variance_ratio_)+1), pca.explained_variance_ratio_)"
   ]
  },
  {
   "cell_type": "code",
   "execution_count": 21,
   "metadata": {},
   "outputs": [
    {
     "data": {
      "text/plain": [
       "array([0.66491472, 0.81796225, 0.92491482, 0.95703214, 0.975308  ,\n",
       "       0.98783099, 0.99782953, 1.        ])"
      ]
     },
     "execution_count": 21,
     "metadata": {},
     "output_type": "execute_result"
    }
   ],
   "source": [
    "# Cumulative variance\n",
    "var_cumu = np.cumsum(pca.explained_variance_ratio_)\n",
    "var_cumu"
   ]
  },
  {
   "cell_type": "code",
   "execution_count": 22,
   "metadata": {},
   "outputs": [
    {
     "data": {
      "image/png": "[encoded data removed]",
      "text/plain": [
       "<Figure size 864x576 with 1 Axes>"
      ]
     },
     "metadata": {
      "needs_background": "light"
     },
     "output_type": "display_data"
    }
   ],
   "source": [
    "# Making the screeplot - plotting the cumulative variance against the number of components\n",
    "fig = plt.figure(figsize=[12,8])\n",
    "plt.vlines(x=3, ymax=1, ymin=0, colors=\"r\", linestyles=\"--\")\n",
    "plt.hlines(y=0.95, xmax=10, xmin=0, colors=\"g\", linestyles=\"--\")\n",
    "plt.plot(var_cumu)\n",
    "plt.xlabel('number of components')\n",
    "plt.ylabel(\"Cumulative variance explained\")\n",
    "plt.show()"
   ]
  },
  {
   "cell_type": "markdown",
   "metadata": {},
   "source": [
    "Clearly over 95% of the data is properly explained by the first 3 principal components. Let's use them only for our clustering process"
   ]
  },
  {
   "cell_type": "code",
   "execution_count": 23,
   "metadata": {},
   "outputs": [
    {
     "data": {
      "text/plain": [
       "IncrementalPCA(batch_size=None, copy=True, n_components=3, whiten=False)"
      ]
     },
     "execution_count": 23,
     "metadata": {},
     "output_type": "execute_result"
    }
   ],
   "source": [
    "# Building a PCA model based on 3 Components using IncrementalPCA module\n",
    "\n",
    "pca_final = IncrementalPCA(n_components=3)\n",
    "pca_final"
   ]
  },
  {
   "cell_type": "markdown",
   "metadata": {},
   "source": [
    "## 5. Basis transformation - getting the data onto our PCs"
   ]
  },
  {
   "cell_type": "code",
   "execution_count": 24,
   "metadata": {},
   "outputs": [
    {
     "data": {
      "text/plain": [
       "(167, 3)"
      ]
     },
     "execution_count": 24,
     "metadata": {},
     "output_type": "execute_result"
    }
   ],
   "source": [
    "df_train_pca = pca_final.fit_transform(x_scl)\n",
    "df_train_pca.shape"
   ]
  },
  {
   "cell_type": "code",
   "execution_count": 25,
   "metadata": {
    "collapsed": true
   },
   "outputs": [
    {
     "data": {
      "text/plain": [
       "array([[-3.11729986e+00,  1.20140789e-01, -5.76964921e-01,\n",
       "        -3.25254356e+00,  1.04552909e+00, -1.64929018e-01,\n",
       "        -3.17929673e-01,  3.35187489e+00,  4.86617983e+00,\n",
       "        -5.69335009e-01,  1.92468670e+00,  2.07496179e+00,\n",
       "        -1.13588204e+00,  1.22225449e+00,  4.07511741e-02,\n",
       "         5.02120490e+00, -2.56312448e-01, -2.67310375e+00,\n",
       "        -7.21973122e-01, -1.15003921e+00,  4.83379851e-01,\n",
       "        -1.26719527e+00,  1.06917718e-01,  2.45164429e+00,\n",
       "         5.76723474e-01, -3.22624280e+00, -3.19684903e+00,\n",
       "        -1.25851677e+00, -2.78897318e+00,  3.82444106e+00,\n",
       "        -4.17118847e-01, -3.03547771e+00, -3.24330255e+00,\n",
       "         8.64805516e-01, -8.68308173e-02,  6.08157245e-02,\n",
       "        -2.20999791e+00, -3.68588811e+00, -2.53096267e+00,\n",
       "         6.09659660e-01, -2.98667270e+00,  1.19090038e+00,\n",
       "         3.12669295e+00,  2.41850889e+00,  5.00016919e+00,\n",
       "        -3.44448950e-01, -2.83831722e-01, -9.53413702e-01,\n",
       "        -2.34382190e-01, -1.05788292e+00, -2.30942914e+00,\n",
       "         1.68458624e+00, -7.37304988e-01,  3.89732501e+00,\n",
       "         3.35116021e+00, -1.61703717e+00, -2.39380678e+00,\n",
       "        -3.41772065e-01,  4.08025996e+00, -2.45781514e+00,\n",
       "         2.30890474e+00,  8.55890564e-02, -9.07829845e-01,\n",
       "        -3.31518016e+00, -2.99630307e+00, -9.65329805e-01,\n",
       "        -2.67017067e+00,  1.65650682e+00,  3.89495513e+00,\n",
       "        -1.46783932e+00, -1.05634128e+00, -1.67169979e-01,\n",
       "        -1.46652437e+00,  5.10518195e+00,  2.17521434e+00,\n",
       "         2.95423407e+00, -2.87049415e-01,  2.85862278e+00,\n",
       "        -4.88823025e-01, -5.19772936e-01, -1.92698347e+00,\n",
       "        -1.82770641e+00,  2.77389332e+00, -1.23894080e+00,\n",
       "        -1.91157219e+00,  1.05751785e+00,  1.03269905e+00,\n",
       "        -2.35876181e+00, -2.58771417e+00,  6.86365455e-01,\n",
       "         1.26665865e+00,  5.34175615e+00,  3.09856639e-01,\n",
       "        -2.33022382e+00, -3.11912412e+00,  8.00384127e-01,\n",
       "         5.46732263e-01, -3.05721209e+00,  3.97776001e+00,\n",
       "        -2.61392397e+00,  6.37356047e-01, -1.17412342e+00,\n",
       "        -5.86598194e-01, -1.30680200e+00,  6.63494920e-01,\n",
       "        -4.67987302e-01, -3.14113417e+00, -1.43674540e+00,\n",
       "        -1.42759813e+00, -1.53461900e+00,  5.27603390e+00,\n",
       "         2.56272484e+00, -3.06207848e+00, -3.37848584e+00,\n",
       "         5.18008332e+00,  1.38639506e+00, -2.21768105e+00,\n",
       "         6.83478510e-01, -4.44257512e-01, -1.25599408e-01,\n",
       "        -9.75703730e-01,  1.21998978e+00,  2.23019896e+00,\n",
       "         3.62155259e+00,  4.87947260e-01,  9.26897302e-02,\n",
       "        -1.94629531e+00, -8.26001965e-01,  1.08694044e+00,\n",
       "        -2.06900539e+00,  3.60203714e-01,  1.27415549e+00,\n",
       "        -3.49650673e+00,  4.71941400e+00,  2.19900208e+00,\n",
       "         2.88962931e+00, -1.70217694e+00, -1.30061760e+00,\n",
       "         2.29731219e+00,  2.61540546e+00, -7.34821211e-01,\n",
       "        -1.23155776e-01, -2.52929639e+00, -1.23322826e-01,\n",
       "         4.70777680e+00,  5.46442063e+00, -1.63654320e+00,\n",
       "        -2.68043703e+00,  4.25999140e-01, -2.38134655e+00,\n",
       "        -2.52515201e+00, -8.75165175e-01,  1.14329720e-01,\n",
       "         4.10099227e-01, -8.76361342e-01, -3.04645972e+00,\n",
       "        -4.20719438e-01,  3.50384608e+00,  3.04376060e+00,\n",
       "         3.12282729e+00,  5.92214842e-01, -1.28660144e+00,\n",
       "        -1.24192056e+00, -2.11220827e-01, -6.58335233e-01,\n",
       "        -2.22325484e+00, -3.02159445e+00],\n",
       "       [ 1.38046570e+00, -1.58821448e+00, -6.68296401e-01,\n",
       "         2.15163493e+00, -9.00598696e-01, -5.97675213e-01,\n",
       "        -1.46824447e+00,  2.98230938e-01,  1.51641176e+00,\n",
       "        -4.93641362e-01, -5.16491530e-02,  2.83278066e-01,\n",
       "        -9.39651948e-01, -8.81298879e-01, -9.43496244e-01,\n",
       "         2.07727149e+00, -1.05517890e+00,  1.02734123e+00,\n",
       "        -9.19442266e-01, -5.56406571e-01, -1.83430369e+00,\n",
       "         4.05180267e-01, -1.11183056e+00,  9.44848057e-01,\n",
       "        -1.38012255e+00,  1.57346806e+00,  1.45078502e+00,\n",
       "        -7.32600491e-01,  1.13623882e+00,  7.02465670e-01,\n",
       "        -1.17355623e+00,  1.28319406e+00,  1.64484376e+00,\n",
       "        -1.00538235e+00, -1.54298757e+00, -1.45755841e+00,\n",
       "         4.56808960e-01,  1.99589048e+00,  1.14981819e+00,\n",
       "        -1.37967068e+00,  1.39444475e+00, -1.20856673e+00,\n",
       "         1.31093565e-01, -3.27811012e-01,  2.12305878e+00,\n",
       "        -9.15708960e-01, -1.06645056e+00, -6.39198852e-01,\n",
       "        -1.41166601e+00,  3.42737214e+00,  3.63432488e-01,\n",
       "        -5.87208726e-01, -7.21783917e-01,  8.78409412e-01,\n",
       "         3.71238847e-01,  9.73742696e-01,  7.09021576e-01,\n",
       "        -1.31249378e+00,  7.84443815e-01,  6.92979762e-01,\n",
       "        -7.32811323e-01, -1.17078118e+00, -6.78718441e-01,\n",
       "         1.58061950e+00,  1.23967730e+00, -5.69060363e-01,\n",
       "         7.63339652e-01, -6.08301297e-01,  1.29078343e+00,\n",
       "        -4.57286649e-01, -6.73233335e-01, -9.93080409e-01,\n",
       "         4.44331481e-01,  2.08792291e+00,  4.56484731e-02,\n",
       "        -3.20567568e-01, -1.17873008e+00, -4.98628042e-01,\n",
       "        -6.50253071e-01, -1.01329184e-01,  8.21786005e-02,\n",
       "         2.89282885e-02,  1.05664558e+00, -7.14636129e-01,\n",
       "         9.25550727e-02, -1.11361417e+00, -1.50372106e+00,\n",
       "         5.94425070e-01,  7.97020822e-01, -2.10302734e-01,\n",
       "        -7.97045944e-01,  2.14014152e+00, -1.61368287e+00,\n",
       "         4.02353101e-01,  1.29307389e+00, -6.29767157e-01,\n",
       "        -1.15223733e+00,  1.45253794e+00,  1.20300321e+00,\n",
       "         1.07900379e+00, -1.19467950e+00, -3.49934746e-01,\n",
       "        -1.38928100e+00, -3.37229852e-01, -1.45264609e+00,\n",
       "        -1.17937991e+00,  1.38258231e+00, -5.69001670e-01,\n",
       "         3.52087816e-01, -5.65141002e-01,  2.10702076e+00,\n",
       "         4.97292060e-02,  1.40618417e+00,  1.98757425e+00,\n",
       "         2.32987720e+00,  5.62346114e-01,  4.60710721e-01,\n",
       "        -7.30967803e-01, -1.03381789e+00, -1.29326962e+00,\n",
       "        -7.89879695e-01, -1.21407973e+00, -7.79049223e-01,\n",
       "         1.39408225e+00, -1.30726588e+00, -7.75041935e-01,\n",
       "         6.50575116e-02, -6.26922810e-01,  5.51200742e-01,\n",
       "         3.27568840e-01, -1.52222918e+00, -3.47437702e-01,\n",
       "         1.73189377e+00,  1.32104108e+00, -2.87617468e-01,\n",
       "        -3.76697350e-02, -1.53537332e-01,  2.03770489e-01,\n",
       "        -5.64789617e-01, -6.39943853e-01, -1.06359220e+00,\n",
       "        -1.10459630e+00,  8.45109021e-01, -5.41022322e-01,\n",
       "         1.59288118e+00,  2.01463209e+00, -2.97295537e-01,\n",
       "         8.97664049e-01, -1.46468740e+00,  9.07452824e-01,\n",
       "         7.17527706e-01, -7.00136522e-01, -1.38760665e+00,\n",
       "        -1.08155422e+00, -2.74333315e-01,  1.28754486e+00,\n",
       "        -1.28526869e+00,  1.68665156e+00,  2.08010423e-01,\n",
       "         2.61689934e-01, -1.10436110e+00, -7.00531298e-01,\n",
       "        -4.77135109e-01, -4.55721799e-01, -1.23055835e+00,\n",
       "         5.32177362e-01,  1.36402690e+00],\n",
       "       [-4.84529664e-01, -9.60003704e-02,  1.55202871e+00,\n",
       "         1.22294195e+00, -4.87049190e-01,  2.36122049e+00,\n",
       "         3.03094857e-01, -4.95267566e-01, -5.04930000e-01,\n",
       "         1.11461135e+00, -8.27283817e-01,  6.76873199e-01,\n",
       "        -8.39950619e-02, -7.43745235e-01,  1.51871961e+00,\n",
       "        -3.53738798e-01, -7.93215996e-01, -1.72600047e+00,\n",
       "        -1.59705023e-01,  1.62840985e-01, -5.08534017e-01,\n",
       "        -4.71955236e-02,  4.10773791e-01,  2.26408202e+00,\n",
       "        -5.63171224e-01, -9.79161979e-01, -5.01937337e-02,\n",
       "        -7.84427503e-01, -1.61696165e+00, -2.70129005e-01,\n",
       "        -9.26364111e-01, -1.69135572e+00, -1.06265154e+00,\n",
       "         7.00862553e-01,  2.53757062e-01, -2.29677563e-01,\n",
       "        -1.04813855e+00,  1.10895703e+00,  1.52718434e+00,\n",
       "         2.86401293e-01, -1.13920130e+00, -5.30638290e-01,\n",
       "        -1.83103655e-01, -5.30305389e-01, -1.64909220e-01,\n",
       "        -1.37170653e-01,  2.27270625e-01,  4.74693691e-01,\n",
       "        -4.96058371e-01,  1.61081272e+00,  2.07987758e-01,\n",
       "        -3.45967354e-01, -4.72272951e-01, -5.94528321e-01,\n",
       "        -5.96246079e-01,  1.14153753e+00, -1.01973458e+00,\n",
       "         3.88623795e-01, -5.51155759e-01,  9.09796653e-01,\n",
       "        -5.42811469e-01, -8.32857966e-01, -3.43508138e-01,\n",
       "         4.87186014e-01, -1.52542550e+00, -3.30327265e-01,\n",
       "        -1.03458491e+00, -2.82772116e-01,  2.11432152e-01,\n",
       "         6.56517441e-02,  1.26401800e+00,  1.64362682e+00,\n",
       "         1.25694123e+00, -5.33495537e-01, -4.01312560e-01,\n",
       "        -5.36689031e-01,  6.06776542e-01, -6.26210401e-01,\n",
       "         3.05062947e-01,  2.03249015e+00, -1.20304489e+00,\n",
       "        -1.31700486e+00,  1.43313693e+00,  3.49978200e-01,\n",
       "        -9.32139711e-02, -6.77899741e-01, -5.99554257e-01,\n",
       "        -1.14606195e+00, -9.32807174e-01,  1.53943087e+00,\n",
       "        -3.21081241e-01,  1.63121233e-02, -4.49497513e-01,\n",
       "        -2.64413889e-01, -5.96506925e-02,  4.32755334e-01,\n",
       "        -3.27789188e-01, -1.30936000e+00,  1.02471165e-01,\n",
       "         1.20673310e+00, -5.88249687e-01, -7.53006654e-01,\n",
       "         7.25211945e-01,  2.03694418e+00, -4.77342803e-01,\n",
       "        -8.54982704e-01, -7.98784496e-01, -2.33245496e-01,\n",
       "        -9.34337576e-01,  1.05400582e+00, -4.59922021e-01,\n",
       "        -1.32120660e-01, -1.60227054e+00,  1.21633497e+00,\n",
       "         3.35837585e-01,  1.93060553e+00,  7.76828660e-02,\n",
       "        -4.07831756e-01, -3.04998427e-02,  4.05691870e-02,\n",
       "        -4.90669932e-01, -3.68069745e-01, -5.35538378e-01,\n",
       "         8.31387066e-01, -1.82362872e-01,  1.40365660e+00,\n",
       "        -1.12295739e+00, -8.63314726e-01,  2.08590403e+00,\n",
       "        -1.29572303e+00,  1.50328481e-01, -7.05816766e-01,\n",
       "         5.83659764e-01, -1.77536037e-01, -5.66749528e-01,\n",
       "        -5.53727508e-01, -3.52399018e-01, -4.65559385e-01,\n",
       "        -4.39287197e-03, -5.46360426e-01,  2.31424535e+00,\n",
       "        -2.51449151e-01,  1.38372975e+00,  1.30703452e-01,\n",
       "        -5.02017851e-01, -4.73768641e-01,  5.93385050e-01,\n",
       "        -3.27775444e-01, -7.73762441e-02,  1.61440225e+00,\n",
       "        -1.60786909e+00, -5.67168935e-01, -2.13941599e-01,\n",
       "         3.20377672e-01, -8.63003921e-01, -2.57778813e-01,\n",
       "         1.15267573e+00,  1.54887578e+00, -4.42556982e-01,\n",
       "        -5.24682569e-01, -1.19293640e-02,  1.36983225e+00,\n",
       "        -8.94165818e-01,  2.33450137e+00,  8.87187467e-01,\n",
       "         1.72892025e+00,  2.75306015e-01]])"
      ]
     },
     "execution_count": 25,
     "metadata": {},
     "output_type": "execute_result"
    }
   ],
   "source": [
    "# Take the transpose of the PC matrix so that we can create the new matrix\n",
    "pc = np.transpose(df_train_pca)\n",
    "pc"
   ]
  },
  {
   "cell_type": "code",
   "execution_count": 26,
   "metadata": {},
   "outputs": [
    {
     "data": {
      "text/html": [
       "<div>\n",
       "<style scoped>\n",
       "    .dataframe tbody tr th:only-of-type {\n",
       "        vertical-align: middle;\n",
       "    }\n",
       "\n",
       "    .dataframe tbody tr th {\n",
       "        vertical-align: top;\n",
       "    }\n",
       "\n",
       "    .dataframe thead th {\n",
       "        text-align: right;\n",
       "    }\n",
       "</style>\n",
       "<table border=\"1\" class=\"dataframe\">\n",
       "  <thead>\n",
       "    <tr style=\"text-align: right;\">\n",
       "      <th></th>\n",
       "      <th>country</th>\n",
       "      <th>PC1</th>\n",
       "      <th>PC2</th>\n",
       "      <th>PC3</th>\n",
       "    </tr>\n",
       "  </thead>\n",
       "  <tbody>\n",
       "    <tr>\n",
       "      <td>0</td>\n",
       "      <td>Afghanistan</td>\n",
       "      <td>-3.117300</td>\n",
       "      <td>1.380466</td>\n",
       "      <td>-0.484530</td>\n",
       "    </tr>\n",
       "    <tr>\n",
       "      <td>1</td>\n",
       "      <td>Albania</td>\n",
       "      <td>0.120141</td>\n",
       "      <td>-1.588214</td>\n",
       "      <td>-0.096000</td>\n",
       "    </tr>\n",
       "    <tr>\n",
       "      <td>2</td>\n",
       "      <td>Algeria</td>\n",
       "      <td>-0.576965</td>\n",
       "      <td>-0.668296</td>\n",
       "      <td>1.552029</td>\n",
       "    </tr>\n",
       "    <tr>\n",
       "      <td>3</td>\n",
       "      <td>Angola</td>\n",
       "      <td>-3.252544</td>\n",
       "      <td>2.151635</td>\n",
       "      <td>1.222942</td>\n",
       "    </tr>\n",
       "    <tr>\n",
       "      <td>4</td>\n",
       "      <td>Antigua and Barbuda</td>\n",
       "      <td>1.045529</td>\n",
       "      <td>-0.900599</td>\n",
       "      <td>-0.487049</td>\n",
       "    </tr>\n",
       "  </tbody>\n",
       "</table>\n",
       "</div>"
      ],
      "text/plain": [
       "               country       PC1       PC2       PC3\n",
       "0          Afghanistan -3.117300  1.380466 -0.484530\n",
       "1              Albania  0.120141 -1.588214 -0.096000\n",
       "2              Algeria -0.576965 -0.668296  1.552029\n",
       "3               Angola -3.252544  2.151635  1.222942\n",
       "4  Antigua and Barbuda  1.045529 -0.900599 -0.487049"
      ]
     },
     "execution_count": 26,
     "metadata": {},
     "output_type": "execute_result"
    }
   ],
   "source": [
    "# Create the newer matrix according to the given principal components\n",
    "rownames = list(country_df['country'])\n",
    "pcs_df = pd.DataFrame({'country':rownames,'PC1':pc[0],'PC2':pc[1],'PC3':pc[2]})\n",
    "pcs_df.head()"
   ]
  },
  {
   "cell_type": "code",
   "execution_count": 27,
   "metadata": {},
   "outputs": [
    {
     "data": {
      "text/plain": [
       "(167, 4)"
      ]
     },
     "execution_count": 27,
     "metadata": {},
     "output_type": "execute_result"
    }
   ],
   "source": [
    "pcs_df.shape"
   ]
  },
  {
   "cell_type": "code",
   "execution_count": 28,
   "metadata": {},
   "outputs": [
    {
     "data": {
      "image/png": "[encoded data removed]",
      "text/plain": [
       "<Figure size 432x288 with 1 Axes>"
      ]
     },
     "metadata": {
      "needs_background": "light"
     },
     "output_type": "display_data"
    }
   ],
   "source": [
    "# Let's do the outlier analysis before proceeding to clustering\n",
    "# We can reassign the outliers to the clusters later\n",
    "plt.boxplot(pcs_df.PC1)\n",
    "plt.title(\"PC1\")\n",
    "Q1 = pcs_df.PC1.quantile(0.05)\n",
    "Q3 = pcs_df.PC1.quantile(0.95)\n",
    "IQR = Q3 - Q1\n",
    "pcs_df = pcs_df[(pcs_df.PC1 >= Q1) & (pcs_df.PC1 <= Q3)]"
   ]
  },
  {
   "cell_type": "code",
   "execution_count": 29,
   "metadata": {},
   "outputs": [
    {
     "data": {
      "image/png": "[encoded data removed]",
      "text/plain": [
       "<Figure size 432x288 with 1 Axes>"
      ]
     },
     "metadata": {
      "needs_background": "light"
     },
     "output_type": "display_data"
    }
   ],
   "source": [
    "plt.boxplot(pcs_df.PC2)\n",
    "plt.title(\"PC2\")\n",
    "Q1 = pcs_df.PC2.quantile(0.05)\n",
    "Q3 = pcs_df.PC2.quantile(0.95)\n",
    "IQR = Q3 - Q1\n",
    "pcs_df = pcs_df[(pcs_df.PC2 >= Q1) & (pcs_df.PC2 <= Q3)]"
   ]
  },
  {
   "cell_type": "code",
   "execution_count": 30,
   "metadata": {},
   "outputs": [
    {
     "data": {
      "image/png": "[encoded data removed]",
      "text/plain": [
       "<Figure size 432x288 with 1 Axes>"
      ]
     },
     "metadata": {
      "needs_background": "light"
     },
     "output_type": "display_data"
    }
   ],
   "source": [
    "plt.boxplot(pcs_df.PC3)\n",
    "plt.title(\"PC3\")\n",
    "Q1 = pcs_df.PC3.quantile(0.05)\n",
    "Q3 = pcs_df.PC3.quantile(0.95)\n",
    "IQR = Q3 - Q1\n",
    "pcs_df2 = pcs_df[(pcs_df.PC3 >= Q1 ) & (pcs_df.PC3 <= Q3)]"
   ]
  },
  {
   "cell_type": "code",
   "execution_count": 31,
   "metadata": {},
   "outputs": [
    {
     "data": {
      "text/plain": [
       "(133, 4)"
      ]
     },
     "execution_count": 31,
     "metadata": {},
     "output_type": "execute_result"
    }
   ],
   "source": [
    "# Outlier analysis is now done.Check the shape of the data again.\n",
    "pcs_df.shape"
   ]
  },
  {
   "cell_type": "code",
   "execution_count": 32,
   "metadata": {},
   "outputs": [
    {
     "data": {
      "text/plain": [
       "<seaborn.axisgrid.PairGrid at 0x204b5342808>"
      ]
     },
     "execution_count": 32,
     "metadata": {},
     "output_type": "execute_result"
    },
    {
     "data": {
      "image/png": "[encoded data removed]",
      "text/plain": [
       "<Figure size 360x360 with 1 Axes>"
      ]
     },
     "metadata": {
      "needs_background": "light"
     },
     "output_type": "display_data"
    }
   ],
   "source": [
    "# Check the spread of the dataset\n",
    "sns.pairplot(data=pcs_df, x_vars=[\"PC1\"], y_vars=[\"PC2\"], size=5)"
   ]
  },
  {
   "cell_type": "markdown",
   "metadata": {},
   "source": [
    "## Step 6: Creating correlation matrix for the principal components - we expect little to no correlation:"
   ]
  },
  {
   "cell_type": "code",
   "execution_count": 33,
   "metadata": {},
   "outputs": [
    {
     "data": {
      "image/png": "[encoded data removed]",
      "text/plain": [
       "<Figure size 1440x720 with 2 Axes>"
      ]
     },
     "metadata": {
      "needs_background": "light"
     },
     "output_type": "display_data"
    }
   ],
   "source": [
    "# Correlation Heatmap\n",
    "corre = pcs_df.corr()\n",
    "plt.figure(figsize =(20,10))\n",
    "ax = sns.heatmap(corre, annot = True)\n",
    "bottom, top = ax.get_ylim()\n",
    "ax.set_ylim(bottom + 0.5, top - 0.5)\n",
    "plt.show()"
   ]
  },
  {
   "cell_type": "code",
   "execution_count": 34,
   "metadata": {},
   "outputs": [
    {
     "data": {
      "text/html": [
       "<div>\n",
       "<style scoped>\n",
       "    .dataframe tbody tr th:only-of-type {\n",
       "        vertical-align: middle;\n",
       "    }\n",
       "\n",
       "    .dataframe tbody tr th {\n",
       "        vertical-align: top;\n",
       "    }\n",
       "\n",
       "    .dataframe thead th {\n",
       "        text-align: right;\n",
       "    }\n",
       "</style>\n",
       "<table border=\"1\" class=\"dataframe\">\n",
       "  <thead>\n",
       "    <tr style=\"text-align: right;\">\n",
       "      <th></th>\n",
       "      <th>country</th>\n",
       "      <th>PC1</th>\n",
       "      <th>PC2</th>\n",
       "      <th>PC3</th>\n",
       "    </tr>\n",
       "  </thead>\n",
       "  <tbody>\n",
       "    <tr>\n",
       "      <td>2</td>\n",
       "      <td>Algeria</td>\n",
       "      <td>-0.576965</td>\n",
       "      <td>-0.668296</td>\n",
       "      <td>1.552029</td>\n",
       "    </tr>\n",
       "    <tr>\n",
       "      <td>4</td>\n",
       "      <td>Antigua and Barbuda</td>\n",
       "      <td>1.045529</td>\n",
       "      <td>-0.900599</td>\n",
       "      <td>-0.487049</td>\n",
       "    </tr>\n",
       "    <tr>\n",
       "      <td>5</td>\n",
       "      <td>Argentina</td>\n",
       "      <td>-0.164929</td>\n",
       "      <td>-0.597675</td>\n",
       "      <td>2.361220</td>\n",
       "    </tr>\n",
       "    <tr>\n",
       "      <td>7</td>\n",
       "      <td>Australia</td>\n",
       "      <td>3.351875</td>\n",
       "      <td>0.298231</td>\n",
       "      <td>-0.495268</td>\n",
       "    </tr>\n",
       "    <tr>\n",
       "      <td>9</td>\n",
       "      <td>Azerbaijan</td>\n",
       "      <td>-0.569335</td>\n",
       "      <td>-0.493641</td>\n",
       "      <td>1.114611</td>\n",
       "    </tr>\n",
       "    <tr>\n",
       "      <td>...</td>\n",
       "      <td>...</td>\n",
       "      <td>...</td>\n",
       "      <td>...</td>\n",
       "      <td>...</td>\n",
       "    </tr>\n",
       "    <tr>\n",
       "      <td>162</td>\n",
       "      <td>Vanuatu</td>\n",
       "      <td>-1.241921</td>\n",
       "      <td>-0.477135</td>\n",
       "      <td>-0.894166</td>\n",
       "    </tr>\n",
       "    <tr>\n",
       "      <td>163</td>\n",
       "      <td>Venezuela</td>\n",
       "      <td>-0.211221</td>\n",
       "      <td>-0.455722</td>\n",
       "      <td>2.334501</td>\n",
       "    </tr>\n",
       "    <tr>\n",
       "      <td>164</td>\n",
       "      <td>Vietnam</td>\n",
       "      <td>-0.658335</td>\n",
       "      <td>-1.230558</td>\n",
       "      <td>0.887187</td>\n",
       "    </tr>\n",
       "    <tr>\n",
       "      <td>165</td>\n",
       "      <td>Yemen</td>\n",
       "      <td>-2.223255</td>\n",
       "      <td>0.532177</td>\n",
       "      <td>1.728920</td>\n",
       "    </tr>\n",
       "    <tr>\n",
       "      <td>166</td>\n",
       "      <td>Zambia</td>\n",
       "      <td>-3.021594</td>\n",
       "      <td>1.364027</td>\n",
       "      <td>0.275306</td>\n",
       "    </tr>\n",
       "  </tbody>\n",
       "</table>\n",
       "<p>133 rows × 4 columns</p>\n",
       "</div>"
      ],
      "text/plain": [
       "                 country       PC1       PC2       PC3\n",
       "2                Algeria -0.576965 -0.668296  1.552029\n",
       "4    Antigua and Barbuda  1.045529 -0.900599 -0.487049\n",
       "5              Argentina -0.164929 -0.597675  2.361220\n",
       "7              Australia  3.351875  0.298231 -0.495268\n",
       "9             Azerbaijan -0.569335 -0.493641  1.114611\n",
       "..                   ...       ...       ...       ...\n",
       "162              Vanuatu -1.241921 -0.477135 -0.894166\n",
       "163            Venezuela -0.211221 -0.455722  2.334501\n",
       "164              Vietnam -0.658335 -1.230558  0.887187\n",
       "165                Yemen -2.223255  0.532177  1.728920\n",
       "166               Zambia -3.021594  1.364027  0.275306\n",
       "\n",
       "[133 rows x 4 columns]"
      ]
     },
     "execution_count": 34,
     "metadata": {},
     "output_type": "execute_result"
    }
   ],
   "source": [
    "pcs_df"
   ]
  },
  {
   "cell_type": "code",
   "execution_count": 35,
   "metadata": {},
   "outputs": [],
   "source": [
    "pcs_components = pcs_df.copy()\n",
    "pcs_components.set_index(\"country\", inplace = True)"
   ]
  },
  {
   "cell_type": "code",
   "execution_count": 36,
   "metadata": {},
   "outputs": [
    {
     "data": {
      "text/html": [
       "<div>\n",
       "<style scoped>\n",
       "    .dataframe tbody tr th:only-of-type {\n",
       "        vertical-align: middle;\n",
       "    }\n",
       "\n",
       "    .dataframe tbody tr th {\n",
       "        vertical-align: top;\n",
       "    }\n",
       "\n",
       "    .dataframe thead th {\n",
       "        text-align: right;\n",
       "    }\n",
       "</style>\n",
       "<table border=\"1\" class=\"dataframe\">\n",
       "  <thead>\n",
       "    <tr style=\"text-align: right;\">\n",
       "      <th></th>\n",
       "      <th>PC1</th>\n",
       "      <th>PC2</th>\n",
       "      <th>PC3</th>\n",
       "    </tr>\n",
       "    <tr>\n",
       "      <th>country</th>\n",
       "      <th></th>\n",
       "      <th></th>\n",
       "      <th></th>\n",
       "    </tr>\n",
       "  </thead>\n",
       "  <tbody>\n",
       "    <tr>\n",
       "      <td>Algeria</td>\n",
       "      <td>-0.576965</td>\n",
       "      <td>-0.668296</td>\n",
       "      <td>1.552029</td>\n",
       "    </tr>\n",
       "    <tr>\n",
       "      <td>Antigua and Barbuda</td>\n",
       "      <td>1.045529</td>\n",
       "      <td>-0.900599</td>\n",
       "      <td>-0.487049</td>\n",
       "    </tr>\n",
       "    <tr>\n",
       "      <td>Argentina</td>\n",
       "      <td>-0.164929</td>\n",
       "      <td>-0.597675</td>\n",
       "      <td>2.361220</td>\n",
       "    </tr>\n",
       "    <tr>\n",
       "      <td>Australia</td>\n",
       "      <td>3.351875</td>\n",
       "      <td>0.298231</td>\n",
       "      <td>-0.495268</td>\n",
       "    </tr>\n",
       "    <tr>\n",
       "      <td>Azerbaijan</td>\n",
       "      <td>-0.569335</td>\n",
       "      <td>-0.493641</td>\n",
       "      <td>1.114611</td>\n",
       "    </tr>\n",
       "    <tr>\n",
       "      <td>...</td>\n",
       "      <td>...</td>\n",
       "      <td>...</td>\n",
       "      <td>...</td>\n",
       "    </tr>\n",
       "    <tr>\n",
       "      <td>Vanuatu</td>\n",
       "      <td>-1.241921</td>\n",
       "      <td>-0.477135</td>\n",
       "      <td>-0.894166</td>\n",
       "    </tr>\n",
       "    <tr>\n",
       "      <td>Venezuela</td>\n",
       "      <td>-0.211221</td>\n",
       "      <td>-0.455722</td>\n",
       "      <td>2.334501</td>\n",
       "    </tr>\n",
       "    <tr>\n",
       "      <td>Vietnam</td>\n",
       "      <td>-0.658335</td>\n",
       "      <td>-1.230558</td>\n",
       "      <td>0.887187</td>\n",
       "    </tr>\n",
       "    <tr>\n",
       "      <td>Yemen</td>\n",
       "      <td>-2.223255</td>\n",
       "      <td>0.532177</td>\n",
       "      <td>1.728920</td>\n",
       "    </tr>\n",
       "    <tr>\n",
       "      <td>Zambia</td>\n",
       "      <td>-3.021594</td>\n",
       "      <td>1.364027</td>\n",
       "      <td>0.275306</td>\n",
       "    </tr>\n",
       "  </tbody>\n",
       "</table>\n",
       "<p>133 rows × 3 columns</p>\n",
       "</div>"
      ],
      "text/plain": [
       "                          PC1       PC2       PC3\n",
       "country                                          \n",
       "Algeria             -0.576965 -0.668296  1.552029\n",
       "Antigua and Barbuda  1.045529 -0.900599 -0.487049\n",
       "Argentina           -0.164929 -0.597675  2.361220\n",
       "Australia            3.351875  0.298231 -0.495268\n",
       "Azerbaijan          -0.569335 -0.493641  1.114611\n",
       "...                       ...       ...       ...\n",
       "Vanuatu             -1.241921 -0.477135 -0.894166\n",
       "Venezuela           -0.211221 -0.455722  2.334501\n",
       "Vietnam             -0.658335 -1.230558  0.887187\n",
       "Yemen               -2.223255  0.532177  1.728920\n",
       "Zambia              -3.021594  1.364027  0.275306\n",
       "\n",
       "[133 rows x 3 columns]"
      ]
     },
     "execution_count": 36,
     "metadata": {},
     "output_type": "execute_result"
    }
   ],
   "source": [
    "pcs_components"
   ]
  },
  {
   "cell_type": "markdown",
   "metadata": {},
   "source": [
    "## 7. Clustering:\n",
    "- K-Means\n",
    "- Hierarchical - Single and Complete\n",
    "\n",
    "\n",
    "### K-Means:"
   ]
  },
  {
   "cell_type": "code",
   "execution_count": 37,
   "metadata": {},
   "outputs": [
    {
     "data": {
      "text/plain": [
       "[342.08359814757864,\n",
       " 209.7003742345804,\n",
       " 160.52361031079676,\n",
       " 131.99403776644158,\n",
       " 103.01182642922099,\n",
       " 85.24494586172577,\n",
       " 71.18446260473439,\n",
       " 61.29391255329659]"
      ]
     },
     "execution_count": 37,
     "metadata": {},
     "output_type": "execute_result"
    }
   ],
   "source": [
    "# Instantiate: K-means with some arbitrary k --> we use a range for k to find out an optimum value\n",
    "# The elbow-curve --> sum of squared distances (SSD):\n",
    "\n",
    "ssd =[]\n",
    "for num_clusters in range(2, 10):\n",
    "    kmeans = KMeans(n_clusters = num_clusters, max_iter = 50)\n",
    "    kmeans.fit(pcs_components)\n",
    "    \n",
    "    ssd.append(kmeans.inertia_)\n",
    "\n",
    "ssd"
   ]
  },
  {
   "cell_type": "code",
   "execution_count": 38,
   "metadata": {},
   "outputs": [
    {
     "data": {
      "text/plain": [
       "[<matplotlib.lines.Line2D at 0x204b4640ac8>]"
      ]
     },
     "execution_count": 38,
     "metadata": {},
     "output_type": "execute_result"
    },
    {
     "data": {
      "image/png": "[encoded data removed]",
      "text/plain": [
       "<Figure size 432x288 with 1 Axes>"
      ]
     },
     "metadata": {
      "needs_background": "light"
     },
     "output_type": "display_data"
    }
   ],
   "source": [
    "# plot the SSDs for each n_clusters\n",
    "plt.plot(ssd)"
   ]
  },
  {
   "cell_type": "markdown",
   "metadata": {},
   "source": [
    "- Till the elbow, i.e. cluster number 4, the rate of drop is significant\n",
    "- After the increase in number of clusters, the rate of drop is not significant = ssd in decreased.\n",
    "- As the number of clusters increase => ssd is decreased\n",
    "- This is because, centroid is adjusted such that the data points are even more closer to the centroids."
   ]
  },
  {
   "cell_type": "code",
   "execution_count": 39,
   "metadata": {},
   "outputs": [
    {
     "data": {
      "image/png": "[encoded data removed]",
      "text/plain": [
       "<Figure size 432x288 with 1 Axes>"
      ]
     },
     "metadata": {
      "needs_background": "light"
     },
     "output_type": "display_data"
    }
   ],
   "source": [
    "# silhouette score\n",
    "sse_ = []\n",
    "for k in range(2, 10):\n",
    "    # initialiase k-means:\n",
    "    kmeans = KMeans(n_clusters=k).fit(pcs_components)\n",
    "    # silhouette score:\n",
    "    sse = sse_.append([k, silhouette_score(pcs_components, kmeans.labels_)])\n",
    "\n",
    "plt.plot(pd.DataFrame(sse_)[0], pd.DataFrame(sse_)[1]);"
   ]
  },
  {
   "cell_type": "code",
   "execution_count": 40,
   "metadata": {},
   "outputs": [
    {
     "data": {
      "text/plain": [
       "KMeans(algorithm='auto', copy_x=True, init='k-means++', max_iter=50,\n",
       "       n_clusters=4, n_init=10, n_jobs=None, precompute_distances='auto',\n",
       "       random_state=42, tol=0.0001, verbose=0)"
      ]
     },
     "execution_count": 40,
     "metadata": {},
     "output_type": "execute_result"
    }
   ],
   "source": [
    "# K-means with k=4 clusters\n",
    "model_clus5 = KMeans(n_clusters = 4, max_iter=50, random_state=42)\n",
    "model_clus5.fit(pcs_components)"
   ]
  },
  {
   "cell_type": "code",
   "execution_count": 41,
   "metadata": {},
   "outputs": [
    {
     "data": {
      "text/html": [
       "<div>\n",
       "<style scoped>\n",
       "    .dataframe tbody tr th:only-of-type {\n",
       "        vertical-align: middle;\n",
       "    }\n",
       "\n",
       "    .dataframe tbody tr th {\n",
       "        vertical-align: top;\n",
       "    }\n",
       "\n",
       "    .dataframe thead th {\n",
       "        text-align: right;\n",
       "    }\n",
       "</style>\n",
       "<table border=\"1\" class=\"dataframe\">\n",
       "  <thead>\n",
       "    <tr style=\"text-align: right;\">\n",
       "      <th></th>\n",
       "      <th>country</th>\n",
       "      <th>PC1</th>\n",
       "      <th>PC2</th>\n",
       "      <th>PC3</th>\n",
       "      <th>ClusterID</th>\n",
       "    </tr>\n",
       "  </thead>\n",
       "  <tbody>\n",
       "    <tr>\n",
       "      <td>0</td>\n",
       "      <td>Algeria</td>\n",
       "      <td>-0.576965</td>\n",
       "      <td>-0.668296</td>\n",
       "      <td>1.552029</td>\n",
       "      <td>3</td>\n",
       "    </tr>\n",
       "    <tr>\n",
       "      <td>1</td>\n",
       "      <td>Antigua and Barbuda</td>\n",
       "      <td>1.045529</td>\n",
       "      <td>-0.900599</td>\n",
       "      <td>-0.487049</td>\n",
       "      <td>0</td>\n",
       "    </tr>\n",
       "    <tr>\n",
       "      <td>2</td>\n",
       "      <td>Argentina</td>\n",
       "      <td>-0.164929</td>\n",
       "      <td>-0.597675</td>\n",
       "      <td>2.361220</td>\n",
       "      <td>3</td>\n",
       "    </tr>\n",
       "    <tr>\n",
       "      <td>3</td>\n",
       "      <td>Australia</td>\n",
       "      <td>3.351875</td>\n",
       "      <td>0.298231</td>\n",
       "      <td>-0.495268</td>\n",
       "      <td>1</td>\n",
       "    </tr>\n",
       "    <tr>\n",
       "      <td>4</td>\n",
       "      <td>Azerbaijan</td>\n",
       "      <td>-0.569335</td>\n",
       "      <td>-0.493641</td>\n",
       "      <td>1.114611</td>\n",
       "      <td>3</td>\n",
       "    </tr>\n",
       "  </tbody>\n",
       "</table>\n",
       "</div>"
      ],
      "text/plain": [
       "               country       PC1       PC2       PC3  ClusterID\n",
       "0              Algeria -0.576965 -0.668296  1.552029          3\n",
       "1  Antigua and Barbuda  1.045529 -0.900599 -0.487049          0\n",
       "2            Argentina -0.164929 -0.597675  2.361220          3\n",
       "3            Australia  3.351875  0.298231 -0.495268          1\n",
       "4           Azerbaijan -0.569335 -0.493641  1.114611          3"
      ]
     },
     "execution_count": 41,
     "metadata": {},
     "output_type": "execute_result"
    }
   ],
   "source": [
    "Km_pcs_df = pcs_components\n",
    "Km_pcs_df = Km_pcs_df.reset_index()\n",
    "Km_pcs_df.index = pd.RangeIndex(len(Km_pcs_df.index))\n",
    "data_km = pd.concat([Km_pcs_df, pd.Series(model_clus5.labels_)], axis=1)\n",
    "data_km.columns = ['country','PC1', 'PC2','PC3','ClusterID']\n",
    "data_km.head()"
   ]
  },
  {
   "cell_type": "code",
   "execution_count": 42,
   "metadata": {},
   "outputs": [
    {
     "data": {
      "text/plain": [
       "0    52\n",
       "2    35\n",
       "1    27\n",
       "3    19\n",
       "Name: ClusterID, dtype: int64"
      ]
     },
     "execution_count": 42,
     "metadata": {},
     "output_type": "execute_result"
    }
   ],
   "source": [
    "data_km['ClusterID'].value_counts()"
   ]
  },
  {
   "cell_type": "code",
   "execution_count": 43,
   "metadata": {},
   "outputs": [
    {
     "data": {
      "text/plain": [
       "<matplotlib.axes._subplots.AxesSubplot at 0x204b4882488>"
      ]
     },
     "execution_count": 43,
     "metadata": {},
     "output_type": "execute_result"
    },
    {
     "data": {
      "image/png": "[encoded data removed]",
      "text/plain": [
       "<Figure size 432x288 with 1 Axes>"
      ]
     },
     "metadata": {
      "needs_background": "light"
     },
     "output_type": "display_data"
    }
   ],
   "source": [
    "# Each cluster has a good number of countries associated with it (at least 5% of the dataset under consideration)\n",
    "# Let's do some further visualizations. We'll be visualising the clusters on the original principal components\n",
    "\n",
    "sns.scatterplot(x='PC1',y='PC2', hue='ClusterID', legend='full',data=data_km)"
   ]
  },
  {
   "cell_type": "code",
   "execution_count": 44,
   "metadata": {},
   "outputs": [
    {
     "data": {
      "text/plain": [
       "<matplotlib.axes._subplots.AxesSubplot at 0x204b47efbc8>"
      ]
     },
     "execution_count": 44,
     "metadata": {},
     "output_type": "execute_result"
    },
    {
     "data": {
      "image/png": "[encoded data removed]",
      "text/plain": [
       "<Figure size 432x288 with 1 Axes>"
      ]
     },
     "metadata": {
      "needs_background": "light"
     },
     "output_type": "display_data"
    }
   ],
   "source": [
    "sns.scatterplot(x='PC2',y='PC3',hue='ClusterID',data=data_km)"
   ]
  },
  {
   "cell_type": "code",
   "execution_count": 45,
   "metadata": {},
   "outputs": [
    {
     "data": {
      "text/plain": [
       "<matplotlib.axes._subplots.AxesSubplot at 0x204b46780c8>"
      ]
     },
     "execution_count": 45,
     "metadata": {},
     "output_type": "execute_result"
    },
    {
     "data": {
      "image/png": "[encoded data removed]",
      "text/plain": [
       "<Figure size 432x288 with 1 Axes>"
      ]
     },
     "metadata": {
      "needs_background": "light"
     },
     "output_type": "display_data"
    }
   ],
   "source": [
    "sns.scatterplot(x='PC3',y='PC1',hue='ClusterID',data=data_km)"
   ]
  },
  {
   "cell_type": "markdown",
   "metadata": {},
   "source": [
    "One thing we noticed is some even though some distinct clusters are being formed, some are not so good.\n",
    "Now let's create the cluster means with respect to the various variables mentioned in the question and plot and see how they are related"
   ]
  },
  {
   "cell_type": "code",
   "execution_count": 46,
   "metadata": {},
   "outputs": [
    {
     "data": {
      "text/html": [
       "<div>\n",
       "<style scoped>\n",
       "    .dataframe tbody tr th:only-of-type {\n",
       "        vertical-align: middle;\n",
       "    }\n",
       "\n",
       "    .dataframe tbody tr th {\n",
       "        vertical-align: top;\n",
       "    }\n",
       "\n",
       "    .dataframe thead th {\n",
       "        text-align: right;\n",
       "    }\n",
       "</style>\n",
       "<table border=\"1\" class=\"dataframe\">\n",
       "  <thead>\n",
       "    <tr style=\"text-align: right;\">\n",
       "      <th></th>\n",
       "      <th>child_mort</th>\n",
       "      <th>exports</th>\n",
       "      <th>imports</th>\n",
       "      <th>health</th>\n",
       "      <th>income</th>\n",
       "      <th>inflation</th>\n",
       "      <th>life_expec</th>\n",
       "      <th>total_fer</th>\n",
       "      <th>gdpp</th>\n",
       "    </tr>\n",
       "    <tr>\n",
       "      <th>ClusterID</th>\n",
       "      <th></th>\n",
       "      <th></th>\n",
       "      <th></th>\n",
       "      <th></th>\n",
       "      <th></th>\n",
       "      <th></th>\n",
       "      <th></th>\n",
       "      <th></th>\n",
       "      <th></th>\n",
       "    </tr>\n",
       "  </thead>\n",
       "  <tbody>\n",
       "    <tr>\n",
       "      <td>0</td>\n",
       "      <td>22.894231</td>\n",
       "      <td>2578.655862</td>\n",
       "      <td>2968.575423</td>\n",
       "      <td>407.859878</td>\n",
       "      <td>10831.730769</td>\n",
       "      <td>4.543458</td>\n",
       "      <td>72.900000</td>\n",
       "      <td>2.414038</td>\n",
       "      <td>6028.115385</td>\n",
       "    </tr>\n",
       "    <tr>\n",
       "      <td>1</td>\n",
       "      <td>5.581481</td>\n",
       "      <td>13365.129630</td>\n",
       "      <td>12013.431852</td>\n",
       "      <td>2778.744889</td>\n",
       "      <td>34265.555556</td>\n",
       "      <td>2.644296</td>\n",
       "      <td>79.248148</td>\n",
       "      <td>1.744444</td>\n",
       "      <td>31944.814815</td>\n",
       "    </tr>\n",
       "    <tr>\n",
       "      <td>2</td>\n",
       "      <td>76.565714</td>\n",
       "      <td>615.649634</td>\n",
       "      <td>698.952371</td>\n",
       "      <td>111.039579</td>\n",
       "      <td>3489.200000</td>\n",
       "      <td>8.799000</td>\n",
       "      <td>61.487429</td>\n",
       "      <td>4.480343</td>\n",
       "      <td>1718.760000</td>\n",
       "    </tr>\n",
       "    <tr>\n",
       "      <td>3</td>\n",
       "      <td>22.326316</td>\n",
       "      <td>3150.609411</td>\n",
       "      <td>2307.245684</td>\n",
       "      <td>347.986895</td>\n",
       "      <td>16691.578947</td>\n",
       "      <td>16.530526</td>\n",
       "      <td>71.836842</td>\n",
       "      <td>2.397895</td>\n",
       "      <td>7181.684211</td>\n",
       "    </tr>\n",
       "  </tbody>\n",
       "</table>\n",
       "</div>"
      ],
      "text/plain": [
       "           child_mort       exports       imports       health        income  \\\n",
       "ClusterID                                                                      \n",
       "0           22.894231   2578.655862   2968.575423   407.859878  10831.730769   \n",
       "1            5.581481  13365.129630  12013.431852  2778.744889  34265.555556   \n",
       "2           76.565714    615.649634    698.952371   111.039579   3489.200000   \n",
       "3           22.326316   3150.609411   2307.245684   347.986895  16691.578947   \n",
       "\n",
       "           inflation  life_expec  total_fer          gdpp  \n",
       "ClusterID                                                  \n",
       "0           4.543458   72.900000   2.414038   6028.115385  \n",
       "1           2.644296   79.248148   1.744444  31944.814815  \n",
       "2           8.799000   61.487429   4.480343   1718.760000  \n",
       "3          16.530526   71.836842   2.397895   7181.684211  "
      ]
     },
     "execution_count": 46,
     "metadata": {},
     "output_type": "execute_result"
    }
   ],
   "source": [
    "# Merging the original data set 'country_df' with K-means data set with principal components\n",
    "\n",
    "km_merged_df = pd.merge(country_df,data_km,on='country')\n",
    "km_clust_df1 = km_merged_df[['country','child_mort','exports','imports','health','income','inflation','life_expec','total_fer','gdpp','ClusterID']]\n",
    "\n",
    "# Grouping and taking mean of the data to select appropriate features affecting the growth of the countries in the clusters.\n",
    "km_grouped_df = km_clust_df1.groupby('ClusterID').mean()\n",
    "km_grouped_df"
   ]
  },
  {
   "cell_type": "code",
   "execution_count": 47,
   "metadata": {},
   "outputs": [
    {
     "data": {
      "text/html": [
       "<div>\n",
       "<style scoped>\n",
       "    .dataframe tbody tr th:only-of-type {\n",
       "        vertical-align: middle;\n",
       "    }\n",
       "\n",
       "    .dataframe tbody tr th {\n",
       "        vertical-align: top;\n",
       "    }\n",
       "\n",
       "    .dataframe thead th {\n",
       "        text-align: right;\n",
       "    }\n",
       "</style>\n",
       "<table border=\"1\" class=\"dataframe\">\n",
       "  <thead>\n",
       "    <tr style=\"text-align: right;\">\n",
       "      <th></th>\n",
       "      <th>income</th>\n",
       "      <th>child_mort</th>\n",
       "      <th>health</th>\n",
       "      <th>gdpp</th>\n",
       "    </tr>\n",
       "    <tr>\n",
       "      <th>ClusterID</th>\n",
       "      <th></th>\n",
       "      <th></th>\n",
       "      <th></th>\n",
       "      <th></th>\n",
       "    </tr>\n",
       "  </thead>\n",
       "  <tbody>\n",
       "    <tr>\n",
       "      <td>0</td>\n",
       "      <td>10831.730769</td>\n",
       "      <td>22.894231</td>\n",
       "      <td>407.859878</td>\n",
       "      <td>6028.115385</td>\n",
       "    </tr>\n",
       "    <tr>\n",
       "      <td>1</td>\n",
       "      <td>34265.555556</td>\n",
       "      <td>5.581481</td>\n",
       "      <td>2778.744889</td>\n",
       "      <td>31944.814815</td>\n",
       "    </tr>\n",
       "    <tr>\n",
       "      <td>2</td>\n",
       "      <td>3489.200000</td>\n",
       "      <td>76.565714</td>\n",
       "      <td>111.039579</td>\n",
       "      <td>1718.760000</td>\n",
       "    </tr>\n",
       "    <tr>\n",
       "      <td>3</td>\n",
       "      <td>16691.578947</td>\n",
       "      <td>22.326316</td>\n",
       "      <td>347.986895</td>\n",
       "      <td>7181.684211</td>\n",
       "    </tr>\n",
       "  </tbody>\n",
       "</table>\n",
       "</div>"
      ],
      "text/plain": [
       "                 income  child_mort       health          gdpp\n",
       "ClusterID                                                     \n",
       "0          10831.730769   22.894231   407.859878   6028.115385\n",
       "1          34265.555556    5.581481  2778.744889  31944.814815\n",
       "2           3489.200000   76.565714   111.039579   1718.760000\n",
       "3          16691.578947   22.326316   347.986895   7181.684211"
      ]
     },
     "execution_count": 47,
     "metadata": {},
     "output_type": "execute_result"
    }
   ],
   "source": [
    "# Child mortality , income, GDP per capita, and Health spending are good predictors for the development of a country.\n",
    "# Make a new dataframe using these 4 components:\n",
    "Km_df = km_clust_df1[['ClusterID','country','income','child_mort','health','gdpp']]\n",
    "Km_df.groupby('ClusterID').mean()"
   ]
  },
  {
   "cell_type": "markdown",
   "metadata": {},
   "source": [
    "Countries in ClusterID = 2 are in the dire need of attention as this cluster has:\n",
    "- low income, \n",
    "- high child mortality,\n",
    "- less concern with health as indicated by lower spending in Health sector, and\n",
    "- lowest average GDP that indicates that countries in this cluster are growing at a lower rate as compared to other clusters."
   ]
  },
  {
   "cell_type": "code",
   "execution_count": 48,
   "metadata": {},
   "outputs": [
    {
     "data": {
      "text/plain": [
       "array(['Benin', 'Botswana', 'Cameroon', 'Central African Republic',\n",
       "       'Comoros', 'Congo, Rep.', 'Eritrea', 'Gabon', 'Gambia', 'Ghana',\n",
       "       'Guinea-Bissau', 'Haiti', 'India', 'Kenya', 'Kiribati', 'Lao',\n",
       "       'Lesotho', 'Liberia', 'Madagascar', 'Malawi', 'Mauritania',\n",
       "       'Namibia', 'Pakistan', 'Rwanda', 'Senegal', 'Solomon Islands',\n",
       "       'South Africa', 'Sudan', 'Tajikistan', 'Tanzania', 'Timor-Leste',\n",
       "       'Togo', 'Uganda', 'Yemen', 'Zambia'], dtype=object)"
      ]
     },
     "execution_count": 48,
     "metadata": {},
     "output_type": "execute_result"
    }
   ],
   "source": [
    "# Lets see which countries are included in cluster 2\n",
    "\n",
    "country_in_need_km = Km_df[Km_df.ClusterID == 2].country.values\n",
    "country_in_need_km"
   ]
  },
  {
   "cell_type": "code",
   "execution_count": 49,
   "metadata": {},
   "outputs": [
    {
     "data": {
      "image/png": "[encoded data removed]",
      "text/plain": [
       "<Figure size 432x288 with 1 Axes>"
      ]
     },
     "metadata": {
      "needs_background": "light"
     },
     "output_type": "display_data"
    },
    {
     "data": {
      "image/png": "[encoded data removed]",
      "text/plain": [
       "<Figure size 432x288 with 1 Axes>"
      ]
     },
     "metadata": {
      "needs_background": "light"
     },
     "output_type": "display_data"
    },
    {
     "data": {
      "image/png": "[encoded data removed]",
      "text/plain": [
       "<Figure size 432x288 with 1 Axes>"
      ]
     },
     "metadata": {
      "needs_background": "light"
     },
     "output_type": "display_data"
    },
    {
     "data": {
      "image/png": "[encoded data removed]",
      "text/plain": [
       "<Figure size 432x288 with 1 Axes>"
      ]
     },
     "metadata": {
      "needs_background": "light"
     },
     "output_type": "display_data"
    }
   ],
   "source": [
    "# Perform a bit of outlier analysis once again to understand how the dataset works here.\n",
    "# PLOT\n",
    "for i in Km_df.columns[2:]:\n",
    "    sns.boxplot(x='ClusterID', y= i , data = Km_df)\n",
    "    plt.show()"
   ]
  },
  {
   "cell_type": "markdown",
   "metadata": {},
   "source": [
    "### Hierarchical Clustering:\n"
   ]
  },
  {
   "cell_type": "code",
   "execution_count": 50,
   "metadata": {},
   "outputs": [
    {
     "data": {
      "image/png": "[encoded data removed]",
      "text/plain": [
       "<Figure size 432x288 with 1 Axes>"
      ]
     },
     "metadata": {
      "needs_background": "light"
     },
     "output_type": "display_data"
    }
   ],
   "source": [
    "# Single Linkage method\n",
    "\n",
    "mergings = linkage(pcs_components, method = \"single\", metric='euclidean')\n",
    "dendrogram(mergings)\n",
    "plt.show()"
   ]
  },
  {
   "cell_type": "code",
   "execution_count": 51,
   "metadata": {},
   "outputs": [
    {
     "data": {
      "image/png": "[encoded data removed]",
      "text/plain": [
       "<Figure size 432x288 with 1 Axes>"
      ]
     },
     "metadata": {
      "needs_background": "light"
     },
     "output_type": "display_data"
    }
   ],
   "source": [
    "# Complete Linkage method\n",
    "\n",
    "mergings = linkage(pcs_components, method = \"complete\", metric='euclidean')\n",
    "dendrogram(mergings)\n",
    "plt.show()"
   ]
  },
  {
   "cell_type": "markdown",
   "metadata": {},
   "source": [
    "Now we are seeing some good clusters here.\n",
    "\n",
    "Looking at the dendrogram it is observed that cutting it at n = 4 is most optimum."
   ]
  },
  {
   "cell_type": "code",
   "execution_count": 52,
   "metadata": {},
   "outputs": [
    {
     "data": {
      "text/html": [
       "<div>\n",
       "<style scoped>\n",
       "    .dataframe tbody tr th:only-of-type {\n",
       "        vertical-align: middle;\n",
       "    }\n",
       "\n",
       "    .dataframe tbody tr th {\n",
       "        vertical-align: top;\n",
       "    }\n",
       "\n",
       "    .dataframe thead th {\n",
       "        text-align: right;\n",
       "    }\n",
       "</style>\n",
       "<table border=\"1\" class=\"dataframe\">\n",
       "  <thead>\n",
       "    <tr style=\"text-align: right;\">\n",
       "      <th></th>\n",
       "      <th>country</th>\n",
       "      <th>PC1</th>\n",
       "      <th>PC2</th>\n",
       "      <th>PC3</th>\n",
       "    </tr>\n",
       "  </thead>\n",
       "  <tbody>\n",
       "    <tr>\n",
       "      <td>0</td>\n",
       "      <td>Algeria</td>\n",
       "      <td>-0.576965</td>\n",
       "      <td>-0.668296</td>\n",
       "      <td>1.552029</td>\n",
       "    </tr>\n",
       "    <tr>\n",
       "      <td>1</td>\n",
       "      <td>Antigua and Barbuda</td>\n",
       "      <td>1.045529</td>\n",
       "      <td>-0.900599</td>\n",
       "      <td>-0.487049</td>\n",
       "    </tr>\n",
       "    <tr>\n",
       "      <td>2</td>\n",
       "      <td>Argentina</td>\n",
       "      <td>-0.164929</td>\n",
       "      <td>-0.597675</td>\n",
       "      <td>2.361220</td>\n",
       "    </tr>\n",
       "    <tr>\n",
       "      <td>3</td>\n",
       "      <td>Australia</td>\n",
       "      <td>3.351875</td>\n",
       "      <td>0.298231</td>\n",
       "      <td>-0.495268</td>\n",
       "    </tr>\n",
       "    <tr>\n",
       "      <td>4</td>\n",
       "      <td>Azerbaijan</td>\n",
       "      <td>-0.569335</td>\n",
       "      <td>-0.493641</td>\n",
       "      <td>1.114611</td>\n",
       "    </tr>\n",
       "    <tr>\n",
       "      <td>...</td>\n",
       "      <td>...</td>\n",
       "      <td>...</td>\n",
       "      <td>...</td>\n",
       "      <td>...</td>\n",
       "    </tr>\n",
       "    <tr>\n",
       "      <td>128</td>\n",
       "      <td>Vanuatu</td>\n",
       "      <td>-1.241921</td>\n",
       "      <td>-0.477135</td>\n",
       "      <td>-0.894166</td>\n",
       "    </tr>\n",
       "    <tr>\n",
       "      <td>129</td>\n",
       "      <td>Venezuela</td>\n",
       "      <td>-0.211221</td>\n",
       "      <td>-0.455722</td>\n",
       "      <td>2.334501</td>\n",
       "    </tr>\n",
       "    <tr>\n",
       "      <td>130</td>\n",
       "      <td>Vietnam</td>\n",
       "      <td>-0.658335</td>\n",
       "      <td>-1.230558</td>\n",
       "      <td>0.887187</td>\n",
       "    </tr>\n",
       "    <tr>\n",
       "      <td>131</td>\n",
       "      <td>Yemen</td>\n",
       "      <td>-2.223255</td>\n",
       "      <td>0.532177</td>\n",
       "      <td>1.728920</td>\n",
       "    </tr>\n",
       "    <tr>\n",
       "      <td>132</td>\n",
       "      <td>Zambia</td>\n",
       "      <td>-3.021594</td>\n",
       "      <td>1.364027</td>\n",
       "      <td>0.275306</td>\n",
       "    </tr>\n",
       "  </tbody>\n",
       "</table>\n",
       "<p>133 rows × 4 columns</p>\n",
       "</div>"
      ],
      "text/plain": [
       "                 country       PC1       PC2       PC3\n",
       "0                Algeria -0.576965 -0.668296  1.552029\n",
       "1    Antigua and Barbuda  1.045529 -0.900599 -0.487049\n",
       "2              Argentina -0.164929 -0.597675  2.361220\n",
       "3              Australia  3.351875  0.298231 -0.495268\n",
       "4             Azerbaijan -0.569335 -0.493641  1.114611\n",
       "..                   ...       ...       ...       ...\n",
       "128              Vanuatu -1.241921 -0.477135 -0.894166\n",
       "129            Venezuela -0.211221 -0.455722  2.334501\n",
       "130              Vietnam -0.658335 -1.230558  0.887187\n",
       "131                Yemen -2.223255  0.532177  1.728920\n",
       "132               Zambia -3.021594  1.364027  0.275306\n",
       "\n",
       "[133 rows x 4 columns]"
      ]
     },
     "execution_count": 52,
     "metadata": {},
     "output_type": "execute_result"
    }
   ],
   "source": [
    "pcs_components = pcs_components.reset_index()\n",
    "pcs_components"
   ]
  },
  {
   "cell_type": "code",
   "execution_count": 53,
   "metadata": {},
   "outputs": [],
   "source": [
    "# Cutting the tree at optimum number of clusters i.e. n_clusters = 4:\n",
    "\n",
    "clusterCut = pd.Series(cut_tree(mergings, n_clusters = 4).reshape(-1,))\n",
    "hier_clust = pd.concat([pcs_components, clusterCut], axis=1)\n",
    "hier_clust.columns = ['country','PC1', 'PC2','PC3','ClusterID']"
   ]
  },
  {
   "cell_type": "code",
   "execution_count": 54,
   "metadata": {},
   "outputs": [
    {
     "data": {
      "text/html": [
       "<div>\n",
       "<style scoped>\n",
       "    .dataframe tbody tr th:only-of-type {\n",
       "        vertical-align: middle;\n",
       "    }\n",
       "\n",
       "    .dataframe tbody tr th {\n",
       "        vertical-align: top;\n",
       "    }\n",
       "\n",
       "    .dataframe thead th {\n",
       "        text-align: right;\n",
       "    }\n",
       "</style>\n",
       "<table border=\"1\" class=\"dataframe\">\n",
       "  <thead>\n",
       "    <tr style=\"text-align: right;\">\n",
       "      <th></th>\n",
       "      <th>country</th>\n",
       "      <th>PC1</th>\n",
       "      <th>PC2</th>\n",
       "      <th>PC3</th>\n",
       "      <th>ClusterID</th>\n",
       "    </tr>\n",
       "  </thead>\n",
       "  <tbody>\n",
       "    <tr>\n",
       "      <td>0</td>\n",
       "      <td>Algeria</td>\n",
       "      <td>-0.576965</td>\n",
       "      <td>-0.668296</td>\n",
       "      <td>1.552029</td>\n",
       "      <td>0</td>\n",
       "    </tr>\n",
       "    <tr>\n",
       "      <td>1</td>\n",
       "      <td>Antigua and Barbuda</td>\n",
       "      <td>1.045529</td>\n",
       "      <td>-0.900599</td>\n",
       "      <td>-0.487049</td>\n",
       "      <td>1</td>\n",
       "    </tr>\n",
       "    <tr>\n",
       "      <td>2</td>\n",
       "      <td>Argentina</td>\n",
       "      <td>-0.164929</td>\n",
       "      <td>-0.597675</td>\n",
       "      <td>2.361220</td>\n",
       "      <td>0</td>\n",
       "    </tr>\n",
       "    <tr>\n",
       "      <td>3</td>\n",
       "      <td>Australia</td>\n",
       "      <td>3.351875</td>\n",
       "      <td>0.298231</td>\n",
       "      <td>-0.495268</td>\n",
       "      <td>2</td>\n",
       "    </tr>\n",
       "    <tr>\n",
       "      <td>4</td>\n",
       "      <td>Azerbaijan</td>\n",
       "      <td>-0.569335</td>\n",
       "      <td>-0.493641</td>\n",
       "      <td>1.114611</td>\n",
       "      <td>0</td>\n",
       "    </tr>\n",
       "    <tr>\n",
       "      <td>...</td>\n",
       "      <td>...</td>\n",
       "      <td>...</td>\n",
       "      <td>...</td>\n",
       "      <td>...</td>\n",
       "      <td>...</td>\n",
       "    </tr>\n",
       "    <tr>\n",
       "      <td>128</td>\n",
       "      <td>Vanuatu</td>\n",
       "      <td>-1.241921</td>\n",
       "      <td>-0.477135</td>\n",
       "      <td>-0.894166</td>\n",
       "      <td>1</td>\n",
       "    </tr>\n",
       "    <tr>\n",
       "      <td>129</td>\n",
       "      <td>Venezuela</td>\n",
       "      <td>-0.211221</td>\n",
       "      <td>-0.455722</td>\n",
       "      <td>2.334501</td>\n",
       "      <td>0</td>\n",
       "    </tr>\n",
       "    <tr>\n",
       "      <td>130</td>\n",
       "      <td>Vietnam</td>\n",
       "      <td>-0.658335</td>\n",
       "      <td>-1.230558</td>\n",
       "      <td>0.887187</td>\n",
       "      <td>0</td>\n",
       "    </tr>\n",
       "    <tr>\n",
       "      <td>131</td>\n",
       "      <td>Yemen</td>\n",
       "      <td>-2.223255</td>\n",
       "      <td>0.532177</td>\n",
       "      <td>1.728920</td>\n",
       "      <td>0</td>\n",
       "    </tr>\n",
       "    <tr>\n",
       "      <td>132</td>\n",
       "      <td>Zambia</td>\n",
       "      <td>-3.021594</td>\n",
       "      <td>1.364027</td>\n",
       "      <td>0.275306</td>\n",
       "      <td>3</td>\n",
       "    </tr>\n",
       "  </tbody>\n",
       "</table>\n",
       "<p>133 rows × 5 columns</p>\n",
       "</div>"
      ],
      "text/plain": [
       "                 country       PC1       PC2       PC3  ClusterID\n",
       "0                Algeria -0.576965 -0.668296  1.552029          0\n",
       "1    Antigua and Barbuda  1.045529 -0.900599 -0.487049          1\n",
       "2              Argentina -0.164929 -0.597675  2.361220          0\n",
       "3              Australia  3.351875  0.298231 -0.495268          2\n",
       "4             Azerbaijan -0.569335 -0.493641  1.114611          0\n",
       "..                   ...       ...       ...       ...        ...\n",
       "128              Vanuatu -1.241921 -0.477135 -0.894166          1\n",
       "129            Venezuela -0.211221 -0.455722  2.334501          0\n",
       "130              Vietnam -0.658335 -1.230558  0.887187          0\n",
       "131                Yemen -2.223255  0.532177  1.728920          0\n",
       "132               Zambia -3.021594  1.364027  0.275306          3\n",
       "\n",
       "[133 rows x 5 columns]"
      ]
     },
     "execution_count": 54,
     "metadata": {},
     "output_type": "execute_result"
    }
   ],
   "source": [
    "hier_clust"
   ]
  },
  {
   "cell_type": "code",
   "execution_count": 55,
   "metadata": {},
   "outputs": [
    {
     "data": {
      "text/plain": [
       "<matplotlib.axes._subplots.AxesSubplot at 0x204b56f8288>"
      ]
     },
     "execution_count": 55,
     "metadata": {},
     "output_type": "execute_result"
    },
    {
     "data": {
      "image/png": "[encoded data removed]",
      "text/plain": [
       "<Figure size 432x288 with 1 Axes>"
      ]
     },
     "metadata": {
      "needs_background": "light"
     },
     "output_type": "display_data"
    }
   ],
   "source": [
    "# Let's do some further visualizations. We'll be visualising the clusters on the original principal components\n",
    "\n",
    "sns.scatterplot(x='PC1',y='PC2',hue='ClusterID',legend='full',data=hier_clust)"
   ]
  },
  {
   "cell_type": "code",
   "execution_count": 56,
   "metadata": {},
   "outputs": [
    {
     "data": {
      "text/plain": [
       "<matplotlib.axes._subplots.AxesSubplot at 0x204b558f888>"
      ]
     },
     "execution_count": 56,
     "metadata": {},
     "output_type": "execute_result"
    },
    {
     "data": {
      "image/png": "[encoded data removed]",
      "text/plain": [
       "<Figure size 432x288 with 1 Axes>"
      ]
     },
     "metadata": {
      "needs_background": "light"
     },
     "output_type": "display_data"
    }
   ],
   "source": [
    "sns.scatterplot(x='PC2',y='PC3',hue='ClusterID',legend='full',data=hier_clust)"
   ]
  },
  {
   "cell_type": "code",
   "execution_count": 57,
   "metadata": {},
   "outputs": [
    {
     "data": {
      "text/plain": [
       "<matplotlib.axes._subplots.AxesSubplot at 0x204b4ccfdc8>"
      ]
     },
     "execution_count": 57,
     "metadata": {},
     "output_type": "execute_result"
    },
    {
     "data": {
      "image/png": "[encoded data removed]",
      "text/plain": [
       "<Figure size 432x288 with 1 Axes>"
      ]
     },
     "metadata": {
      "needs_background": "light"
     },
     "output_type": "display_data"
    }
   ],
   "source": [
    "sns.scatterplot(x='PC3',y='PC1',hue='ClusterID',legend='full',data=hier_clust)"
   ]
  },
  {
   "cell_type": "code",
   "execution_count": 58,
   "metadata": {},
   "outputs": [
    {
     "data": {
      "text/html": [
       "<div>\n",
       "<style scoped>\n",
       "    .dataframe tbody tr th:only-of-type {\n",
       "        vertical-align: middle;\n",
       "    }\n",
       "\n",
       "    .dataframe tbody tr th {\n",
       "        vertical-align: top;\n",
       "    }\n",
       "\n",
       "    .dataframe thead th {\n",
       "        text-align: right;\n",
       "    }\n",
       "</style>\n",
       "<table border=\"1\" class=\"dataframe\">\n",
       "  <thead>\n",
       "    <tr style=\"text-align: right;\">\n",
       "      <th></th>\n",
       "      <th>country</th>\n",
       "      <th>child_mort</th>\n",
       "      <th>exports</th>\n",
       "      <th>imports</th>\n",
       "      <th>health</th>\n",
       "      <th>income</th>\n",
       "      <th>inflation</th>\n",
       "      <th>life_expec</th>\n",
       "      <th>total_fer</th>\n",
       "      <th>gdpp</th>\n",
       "      <th>ClusterID</th>\n",
       "    </tr>\n",
       "  </thead>\n",
       "  <tbody>\n",
       "    <tr>\n",
       "      <td>0</td>\n",
       "      <td>Algeria</td>\n",
       "      <td>27.3</td>\n",
       "      <td>1712.64</td>\n",
       "      <td>1400.44</td>\n",
       "      <td>185.982</td>\n",
       "      <td>12900.0</td>\n",
       "      <td>16.10</td>\n",
       "      <td>76.5</td>\n",
       "      <td>2.89</td>\n",
       "      <td>4460.0</td>\n",
       "      <td>0</td>\n",
       "    </tr>\n",
       "    <tr>\n",
       "      <td>1</td>\n",
       "      <td>Antigua and Barbuda</td>\n",
       "      <td>10.3</td>\n",
       "      <td>5551.00</td>\n",
       "      <td>7185.80</td>\n",
       "      <td>735.660</td>\n",
       "      <td>19100.0</td>\n",
       "      <td>1.44</td>\n",
       "      <td>76.8</td>\n",
       "      <td>2.13</td>\n",
       "      <td>12200.0</td>\n",
       "      <td>1</td>\n",
       "    </tr>\n",
       "    <tr>\n",
       "      <td>2</td>\n",
       "      <td>Argentina</td>\n",
       "      <td>14.5</td>\n",
       "      <td>1946.70</td>\n",
       "      <td>1648.00</td>\n",
       "      <td>834.300</td>\n",
       "      <td>18700.0</td>\n",
       "      <td>20.87</td>\n",
       "      <td>75.8</td>\n",
       "      <td>2.37</td>\n",
       "      <td>10300.0</td>\n",
       "      <td>0</td>\n",
       "    </tr>\n",
       "    <tr>\n",
       "      <td>3</td>\n",
       "      <td>Australia</td>\n",
       "      <td>4.8</td>\n",
       "      <td>10276.20</td>\n",
       "      <td>10847.10</td>\n",
       "      <td>4530.870</td>\n",
       "      <td>41400.0</td>\n",
       "      <td>1.16</td>\n",
       "      <td>81.4</td>\n",
       "      <td>1.93</td>\n",
       "      <td>48610.0</td>\n",
       "      <td>2</td>\n",
       "    </tr>\n",
       "    <tr>\n",
       "      <td>4</td>\n",
       "      <td>Azerbaijan</td>\n",
       "      <td>39.2</td>\n",
       "      <td>3171.12</td>\n",
       "      <td>1208.88</td>\n",
       "      <td>343.392</td>\n",
       "      <td>16000.0</td>\n",
       "      <td>13.80</td>\n",
       "      <td>69.1</td>\n",
       "      <td>1.92</td>\n",
       "      <td>5840.0</td>\n",
       "      <td>0</td>\n",
       "    </tr>\n",
       "  </tbody>\n",
       "</table>\n",
       "</div>"
      ],
      "text/plain": [
       "               country  child_mort   exports   imports    health   income  \\\n",
       "0              Algeria        27.3   1712.64   1400.44   185.982  12900.0   \n",
       "1  Antigua and Barbuda        10.3   5551.00   7185.80   735.660  19100.0   \n",
       "2            Argentina        14.5   1946.70   1648.00   834.300  18700.0   \n",
       "3            Australia         4.8  10276.20  10847.10  4530.870  41400.0   \n",
       "4           Azerbaijan        39.2   3171.12   1208.88   343.392  16000.0   \n",
       "\n",
       "   inflation  life_expec  total_fer     gdpp  ClusterID  \n",
       "0      16.10        76.5       2.89   4460.0          0  \n",
       "1       1.44        76.8       2.13  12200.0          1  \n",
       "2      20.87        75.8       2.37  10300.0          0  \n",
       "3       1.16        81.4       1.93  48610.0          2  \n",
       "4      13.80        69.1       1.92   5840.0          0  "
      ]
     },
     "execution_count": 58,
     "metadata": {},
     "output_type": "execute_result"
    }
   ],
   "source": [
    "# Merging the original data set with hierarchically clustered data set:\n",
    "clust_temp =pd.merge(country_df,hier_clust,on='country')\n",
    "hier_merged_df=clust_temp[['country','child_mort','exports','imports','health','income','inflation','life_expec','total_fer','gdpp','ClusterID']]\n",
    "hier_merged_df.head()"
   ]
  },
  {
   "cell_type": "code",
   "execution_count": 59,
   "metadata": {},
   "outputs": [
    {
     "data": {
      "text/plain": [
       "1    58\n",
       "2    28\n",
       "3    26\n",
       "0    21\n",
       "Name: ClusterID, dtype: int64"
      ]
     },
     "execution_count": 59,
     "metadata": {},
     "output_type": "execute_result"
    }
   ],
   "source": [
    "hier_merged_df['ClusterID'].value_counts()"
   ]
  },
  {
   "cell_type": "code",
   "execution_count": 60,
   "metadata": {},
   "outputs": [
    {
     "data": {
      "text/html": [
       "<div>\n",
       "<style scoped>\n",
       "    .dataframe tbody tr th:only-of-type {\n",
       "        vertical-align: middle;\n",
       "    }\n",
       "\n",
       "    .dataframe tbody tr th {\n",
       "        vertical-align: top;\n",
       "    }\n",
       "\n",
       "    .dataframe thead th {\n",
       "        text-align: right;\n",
       "    }\n",
       "</style>\n",
       "<table border=\"1\" class=\"dataframe\">\n",
       "  <thead>\n",
       "    <tr style=\"text-align: right;\">\n",
       "      <th></th>\n",
       "      <th>child_mort</th>\n",
       "      <th>exports</th>\n",
       "      <th>imports</th>\n",
       "      <th>health</th>\n",
       "      <th>income</th>\n",
       "      <th>inflation</th>\n",
       "      <th>life_expec</th>\n",
       "      <th>total_fer</th>\n",
       "      <th>gdpp</th>\n",
       "    </tr>\n",
       "    <tr>\n",
       "      <th>ClusterID</th>\n",
       "      <th></th>\n",
       "      <th></th>\n",
       "      <th></th>\n",
       "      <th></th>\n",
       "      <th></th>\n",
       "      <th></th>\n",
       "      <th></th>\n",
       "      <th></th>\n",
       "      <th></th>\n",
       "    </tr>\n",
       "  </thead>\n",
       "  <tbody>\n",
       "    <tr>\n",
       "      <td>0</td>\n",
       "      <td>36.957143</td>\n",
       "      <td>1818.356190</td>\n",
       "      <td>1456.729048</td>\n",
       "      <td>274.411524</td>\n",
       "      <td>10607.619048</td>\n",
       "      <td>17.400952</td>\n",
       "      <td>69.471429</td>\n",
       "      <td>3.092429</td>\n",
       "      <td>4890.000000</td>\n",
       "    </tr>\n",
       "    <tr>\n",
       "      <td>1</td>\n",
       "      <td>24.337931</td>\n",
       "      <td>2703.625269</td>\n",
       "      <td>3021.410655</td>\n",
       "      <td>399.135346</td>\n",
       "      <td>10784.827586</td>\n",
       "      <td>5.131203</td>\n",
       "      <td>72.662069</td>\n",
       "      <td>2.427414</td>\n",
       "      <td>5977.620690</td>\n",
       "    </tr>\n",
       "    <tr>\n",
       "      <td>2</td>\n",
       "      <td>6.578571</td>\n",
       "      <td>13191.735714</td>\n",
       "      <td>11561.630714</td>\n",
       "      <td>2679.198643</td>\n",
       "      <td>35731.071429</td>\n",
       "      <td>4.083071</td>\n",
       "      <td>79.160714</td>\n",
       "      <td>1.866429</td>\n",
       "      <td>31625.357143</td>\n",
       "    </tr>\n",
       "    <tr>\n",
       "      <td>3</td>\n",
       "      <td>79.742308</td>\n",
       "      <td>461.291354</td>\n",
       "      <td>671.953654</td>\n",
       "      <td>107.804149</td>\n",
       "      <td>3035.846154</td>\n",
       "      <td>5.859423</td>\n",
       "      <td>59.910000</td>\n",
       "      <td>4.500423</td>\n",
       "      <td>1449.176923</td>\n",
       "    </tr>\n",
       "  </tbody>\n",
       "</table>\n",
       "</div>"
      ],
      "text/plain": [
       "           child_mort       exports       imports       health        income  \\\n",
       "ClusterID                                                                      \n",
       "0           36.957143   1818.356190   1456.729048   274.411524  10607.619048   \n",
       "1           24.337931   2703.625269   3021.410655   399.135346  10784.827586   \n",
       "2            6.578571  13191.735714  11561.630714  2679.198643  35731.071429   \n",
       "3           79.742308    461.291354    671.953654   107.804149   3035.846154   \n",
       "\n",
       "           inflation  life_expec  total_fer          gdpp  \n",
       "ClusterID                                                  \n",
       "0          17.400952   69.471429   3.092429   4890.000000  \n",
       "1           5.131203   72.662069   2.427414   5977.620690  \n",
       "2           4.083071   79.160714   1.866429  31625.357143  \n",
       "3           5.859423   59.910000   4.500423   1449.176923  "
      ]
     },
     "execution_count": 60,
     "metadata": {},
     "output_type": "execute_result"
    }
   ],
   "source": [
    "# Grouping and taking mean of the data to select appropriate features affecting the growth of the countries in the clusters.\n",
    "hier_grouped_df = hier_merged_df.groupby('ClusterID').mean()\n",
    "hier_grouped_df"
   ]
  },
  {
   "cell_type": "code",
   "execution_count": 61,
   "metadata": {},
   "outputs": [
    {
     "data": {
      "text/html": [
       "<div>\n",
       "<style scoped>\n",
       "    .dataframe tbody tr th:only-of-type {\n",
       "        vertical-align: middle;\n",
       "    }\n",
       "\n",
       "    .dataframe tbody tr th {\n",
       "        vertical-align: top;\n",
       "    }\n",
       "\n",
       "    .dataframe thead th {\n",
       "        text-align: right;\n",
       "    }\n",
       "</style>\n",
       "<table border=\"1\" class=\"dataframe\">\n",
       "  <thead>\n",
       "    <tr style=\"text-align: right;\">\n",
       "      <th></th>\n",
       "      <th>income</th>\n",
       "      <th>child_mort</th>\n",
       "      <th>health</th>\n",
       "      <th>gdpp</th>\n",
       "    </tr>\n",
       "    <tr>\n",
       "      <th>ClusterID</th>\n",
       "      <th></th>\n",
       "      <th></th>\n",
       "      <th></th>\n",
       "      <th></th>\n",
       "    </tr>\n",
       "  </thead>\n",
       "  <tbody>\n",
       "    <tr>\n",
       "      <td>0</td>\n",
       "      <td>10607.619048</td>\n",
       "      <td>36.957143</td>\n",
       "      <td>274.411524</td>\n",
       "      <td>4890.000000</td>\n",
       "    </tr>\n",
       "    <tr>\n",
       "      <td>1</td>\n",
       "      <td>10784.827586</td>\n",
       "      <td>24.337931</td>\n",
       "      <td>399.135346</td>\n",
       "      <td>5977.620690</td>\n",
       "    </tr>\n",
       "    <tr>\n",
       "      <td>2</td>\n",
       "      <td>35731.071429</td>\n",
       "      <td>6.578571</td>\n",
       "      <td>2679.198643</td>\n",
       "      <td>31625.357143</td>\n",
       "    </tr>\n",
       "    <tr>\n",
       "      <td>3</td>\n",
       "      <td>3035.846154</td>\n",
       "      <td>79.742308</td>\n",
       "      <td>107.804149</td>\n",
       "      <td>1449.176923</td>\n",
       "    </tr>\n",
       "  </tbody>\n",
       "</table>\n",
       "</div>"
      ],
      "text/plain": [
       "                 income  child_mort       health          gdpp\n",
       "ClusterID                                                     \n",
       "0          10607.619048   36.957143   274.411524   4890.000000\n",
       "1          10784.827586   24.337931   399.135346   5977.620690\n",
       "2          35731.071429    6.578571  2679.198643  31625.357143\n",
       "3           3035.846154   79.742308   107.804149   1449.176923"
      ]
     },
     "execution_count": 61,
     "metadata": {},
     "output_type": "execute_result"
    }
   ],
   "source": [
    "# Income, child_mort, GDP per capita, and Health expenses are good predictors for the development of a country.\n",
    "# Make a new dataframe using these 4 components:\n",
    "Hc_df = hier_merged_df[['ClusterID','country','income','child_mort','health','gdpp']]\n",
    "Hc_df.groupby('ClusterID').mean()"
   ]
  },
  {
   "cell_type": "markdown",
   "metadata": {},
   "source": [
    "Here, we can see that cluster 3 has:\n",
    "- lowest income,\n",
    "- high child mortality rate \n",
    "- lowest health expenses (which suggests compromising with health)\n",
    "- and lowest GDP per capita.\n",
    "Thus, countries in cluster 3 are in dire need of attention "
   ]
  },
  {
   "cell_type": "code",
   "execution_count": 62,
   "metadata": {},
   "outputs": [
    {
     "data": {
      "text/plain": [
       "array(['Benin', 'Botswana', 'Cameroon', 'Central African Republic',\n",
       "       'Comoros', 'Eritrea', 'Gambia', 'Guinea-Bissau', 'Haiti', 'Kenya',\n",
       "       'Kiribati', 'Lao', 'Lesotho', 'Liberia', 'Madagascar', 'Malawi',\n",
       "       'Namibia', 'Pakistan', 'Rwanda', 'Senegal', 'Solomon Islands',\n",
       "       'South Africa', 'Tanzania', 'Togo', 'Uganda', 'Zambia'],\n",
       "      dtype=object)"
      ]
     },
     "execution_count": 62,
     "metadata": {},
     "output_type": "execute_result"
    }
   ],
   "source": [
    "country_in_need_hc = Hc_df[Hc_df.ClusterID == 3].country.values\n",
    "country_in_need_hc"
   ]
  },
  {
   "cell_type": "code",
   "execution_count": 63,
   "metadata": {},
   "outputs": [
    {
     "data": {
      "image/png": "[encoded data removed]",
      "text/plain": [
       "<Figure size 432x288 with 1 Axes>"
      ]
     },
     "metadata": {
      "needs_background": "light"
     },
     "output_type": "display_data"
    },
    {
     "data": {
      "image/png": "[encoded data removed]",
      "text/plain": [
       "<Figure size 432x288 with 1 Axes>"
      ]
     },
     "metadata": {
      "needs_background": "light"
     },
     "output_type": "display_data"
    },
    {
     "data": {
      "image/png": "[encoded data removed]",
      "text/plain": [
       "<Figure size 432x288 with 1 Axes>"
      ]
     },
     "metadata": {
      "needs_background": "light"
     },
     "output_type": "display_data"
    },
    {
     "data": {
      "image/png": "[encoded data removed]",
      "text/plain": [
       "<Figure size 432x288 with 1 Axes>"
      ]
     },
     "metadata": {
      "needs_background": "light"
     },
     "output_type": "display_data"
    }
   ],
   "source": [
    "# perform a bit of outlier analysis once again to understand how the dataset works here.\n",
    "# PLOT\n",
    "for i in Hc_df.columns[2:]:\n",
    "    sns.boxplot(x='ClusterID', y= i , data = Hc_df)\n",
    "    plt.show()"
   ]
  },
  {
   "cell_type": "markdown",
   "metadata": {},
   "source": [
    "# Inferences: \n",
    "In this solution it can be seen that the K-Means clustering and Hirarchichal Clustering produce somewhat similar results.\n",
    "\n",
    "The clustering through hierarchical clustering is more accurate with respect to outliers and significance of the interpretations.\n",
    "\n",
    "Thus, the countries in the direst need of attention are those obtained by Hierarchical Clustering.\n",
    "\n",
    "\n",
    "Following is the **final list** of those countries:\n",
    "\n",
    "\n",
    "**Benin, Botswana, Cameroon, Central African Republic, Comoros, Eritrea, Gambia, Guinea-Bissau, Haiti, Kenya, Kiribati, Lao, Lesotho, Liberia, Madagascar, Malawi, Namibia, Pakistan, Rwanda, Senegal, Solomon Islands, South Africa, Tanzania, Togo, Uganda, and Zambia.**"
   ]
  },
  {
   "cell_type": "markdown",
   "metadata": {},
   "source": [
    "# End of the Assignment"
   ]
  }
 ],
 "metadata": {
  "kernelspec": {
   "display_name": "Python 3",
   "language": "python",
   "name": "python3"
  },
  "language_info": {
   "codemirror_mode": {
    "name": "ipython",
    "version": 3
   },
   "file_extension": ".py",
   "mimetype": "text/x-python",
   "name": "python",
   "nbconvert_exporter": "python",
   "pygments_lexer": "ipython3",
   "version": "3.7.4"
  }
 },
 "nbformat": 4,
 "nbformat_minor": 2
}
